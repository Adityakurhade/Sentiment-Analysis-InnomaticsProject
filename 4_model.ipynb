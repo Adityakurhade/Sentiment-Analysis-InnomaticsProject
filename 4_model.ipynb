{
 "cells": [
  {
   "cell_type": "markdown",
   "id": "56d30a9d-5763-4bd8-b7c4-139d4894743c",
   "metadata": {},
   "source": [
    "# Amazon Fine Food Reviews"
   ]
  },
  {
   "cell_type": "markdown",
   "id": "058f18ee-692c-49eb-b5bc-7558d46937c2",
   "metadata": {},
   "source": [
    "Model building for prediction and evaluation"
   ]
  },
  {
   "cell_type": "markdown",
   "id": "a3dbf09a-3691-4209-ba2f-2efbdf37182d",
   "metadata": {},
   "source": [
    "## Importing necessary libraries"
   ]
  },
  {
   "cell_type": "code",
   "execution_count": 1,
   "id": "e9b8a1aa-90a5-4f06-8169-fe2a1b178bf8",
   "metadata": {},
   "outputs": [],
   "source": [
    "import pandas as pd\n",
    "import numpy as np\n",
    "from gensim.models import Word2Vec\n",
    "\n",
    "from sklearn.model_selection import train_test_split\n",
    "from sklearn.ensemble import RandomForestClassifier\n",
    "from sklearn import metrics\n",
    "from sklearn.model_selection import GridSearchCV\n",
    "\n",
    "from xgboost import XGBClassifier"
   ]
  },
  {
   "cell_type": "code",
   "execution_count": 2,
   "id": "0057d54e-2f8f-43a3-bcd9-1e43da39422b",
   "metadata": {},
   "outputs": [
    {
     "data": {
      "text/html": [
       "<div>\n",
       "<style scoped>\n",
       "    .dataframe tbody tr th:only-of-type {\n",
       "        vertical-align: middle;\n",
       "    }\n",
       "\n",
       "    .dataframe tbody tr th {\n",
       "        vertical-align: top;\n",
       "    }\n",
       "\n",
       "    .dataframe thead th {\n",
       "        text-align: right;\n",
       "    }\n",
       "</style>\n",
       "<table border=\"1\" class=\"dataframe\">\n",
       "  <thead>\n",
       "    <tr style=\"text-align: right;\">\n",
       "      <th></th>\n",
       "      <th>Review_type</th>\n",
       "      <th>text</th>\n",
       "      <th>cleanedtext</th>\n",
       "    </tr>\n",
       "  </thead>\n",
       "  <tbody>\n",
       "    <tr>\n",
       "      <th>0</th>\n",
       "      <td>1</td>\n",
       "      <td>Good Quality Dog Food  I have bought several ...</td>\n",
       "      <td>good quality dog food buy several vitality can...</td>\n",
       "    </tr>\n",
       "    <tr>\n",
       "      <th>1</th>\n",
       "      <td>1</td>\n",
       "      <td>Healthy Dog Food  This is a very healthy dog ...</td>\n",
       "      <td>healthy dog food healthy dog food good digesti...</td>\n",
       "    </tr>\n",
       "    <tr>\n",
       "      <th>2</th>\n",
       "      <td>0</td>\n",
       "      <td>Bad  I fed this to my Golden Retriever and he...</td>\n",
       "      <td>bad feed golden retriever hat eat give terribl...</td>\n",
       "    </tr>\n",
       "    <tr>\n",
       "      <th>3</th>\n",
       "      <td>0</td>\n",
       "      <td>Not hot, not habanero  I have to admit, I was...</td>\n",
       "      <td>hot habanero admit sucker large quantity oz sh...</td>\n",
       "    </tr>\n",
       "    <tr>\n",
       "      <th>4</th>\n",
       "      <td>1</td>\n",
       "      <td>The best weve tried so far  We have a 7 week ...</td>\n",
       "      <td>best weve try far week old gas constipation pr...</td>\n",
       "    </tr>\n",
       "  </tbody>\n",
       "</table>\n",
       "</div>"
      ],
      "text/plain": [
       "   Review_type                                               text  \\\n",
       "0            1   Good Quality Dog Food  I have bought several ...   \n",
       "1            1   Healthy Dog Food  This is a very healthy dog ...   \n",
       "2            0   Bad  I fed this to my Golden Retriever and he...   \n",
       "3            0   Not hot, not habanero  I have to admit, I was...   \n",
       "4            1   The best weve tried so far  We have a 7 week ...   \n",
       "\n",
       "                                         cleanedtext  \n",
       "0  good quality dog food buy several vitality can...  \n",
       "1  healthy dog food healthy dog food good digesti...  \n",
       "2  bad feed golden retriever hat eat give terribl...  \n",
       "3  hot habanero admit sucker large quantity oz sh...  \n",
       "4  best weve try far week old gas constipation pr...  "
      ]
     },
     "execution_count": 2,
     "metadata": {},
     "output_type": "execute_result"
    }
   ],
   "source": [
    "## Import data\n",
    "df = pd.read_csv(\"CleanedText.csv\")\n",
    "df.head()"
   ]
  },
  {
   "cell_type": "markdown",
   "id": "f3553422-4f05-466d-b86a-db232bc501f0",
   "metadata": {},
   "source": [
    "## Word 2 vec model"
   ]
  },
  {
   "cell_type": "code",
   "execution_count": 3,
   "id": "910e1e29-c3ad-466a-9c7e-5c8e56436e6d",
   "metadata": {},
   "outputs": [
    {
     "data": {
      "text/html": [
       "<div>\n",
       "<style scoped>\n",
       "    .dataframe tbody tr th:only-of-type {\n",
       "        vertical-align: middle;\n",
       "    }\n",
       "\n",
       "    .dataframe tbody tr th {\n",
       "        vertical-align: top;\n",
       "    }\n",
       "\n",
       "    .dataframe thead th {\n",
       "        text-align: right;\n",
       "    }\n",
       "</style>\n",
       "<table border=\"1\" class=\"dataframe\">\n",
       "  <thead>\n",
       "    <tr style=\"text-align: right;\">\n",
       "      <th></th>\n",
       "      <th>Review_type</th>\n",
       "      <th>text</th>\n",
       "      <th>cleanedtext</th>\n",
       "      <th>tokenized_reviews</th>\n",
       "    </tr>\n",
       "  </thead>\n",
       "  <tbody>\n",
       "    <tr>\n",
       "      <th>0</th>\n",
       "      <td>1</td>\n",
       "      <td>Good Quality Dog Food  I have bought several ...</td>\n",
       "      <td>good quality dog food buy several vitality can...</td>\n",
       "      <td>[good, quality, dog, food, buy, several, vital...</td>\n",
       "    </tr>\n",
       "    <tr>\n",
       "      <th>1</th>\n",
       "      <td>1</td>\n",
       "      <td>Healthy Dog Food  This is a very healthy dog ...</td>\n",
       "      <td>healthy dog food healthy dog food good digesti...</td>\n",
       "      <td>[healthy, dog, food, healthy, dog, food, good,...</td>\n",
       "    </tr>\n",
       "    <tr>\n",
       "      <th>2</th>\n",
       "      <td>0</td>\n",
       "      <td>Bad  I fed this to my Golden Retriever and he...</td>\n",
       "      <td>bad feed golden retriever hat eat give terribl...</td>\n",
       "      <td>[bad, feed, golden, retriever, hat, eat, give,...</td>\n",
       "    </tr>\n",
       "    <tr>\n",
       "      <th>3</th>\n",
       "      <td>0</td>\n",
       "      <td>Not hot, not habanero  I have to admit, I was...</td>\n",
       "      <td>hot habanero admit sucker large quantity oz sh...</td>\n",
       "      <td>[hot, habanero, admit, sucker, large, quantity...</td>\n",
       "    </tr>\n",
       "    <tr>\n",
       "      <th>4</th>\n",
       "      <td>1</td>\n",
       "      <td>The best weve tried so far  We have a 7 week ...</td>\n",
       "      <td>best weve try far week old gas constipation pr...</td>\n",
       "      <td>[best, weve, try, far, week, old, gas, constip...</td>\n",
       "    </tr>\n",
       "  </tbody>\n",
       "</table>\n",
       "</div>"
      ],
      "text/plain": [
       "   Review_type                                               text  \\\n",
       "0            1   Good Quality Dog Food  I have bought several ...   \n",
       "1            1   Healthy Dog Food  This is a very healthy dog ...   \n",
       "2            0   Bad  I fed this to my Golden Retriever and he...   \n",
       "3            0   Not hot, not habanero  I have to admit, I was...   \n",
       "4            1   The best weve tried so far  We have a 7 week ...   \n",
       "\n",
       "                                         cleanedtext  \\\n",
       "0  good quality dog food buy several vitality can...   \n",
       "1  healthy dog food healthy dog food good digesti...   \n",
       "2  bad feed golden retriever hat eat give terribl...   \n",
       "3  hot habanero admit sucker large quantity oz sh...   \n",
       "4  best weve try far week old gas constipation pr...   \n",
       "\n",
       "                                   tokenized_reviews  \n",
       "0  [good, quality, dog, food, buy, several, vital...  \n",
       "1  [healthy, dog, food, healthy, dog, food, good,...  \n",
       "2  [bad, feed, golden, retriever, hat, eat, give,...  \n",
       "3  [hot, habanero, admit, sucker, large, quantity...  \n",
       "4  [best, weve, try, far, week, old, gas, constip...  "
      ]
     },
     "execution_count": 3,
     "metadata": {},
     "output_type": "execute_result"
    }
   ],
   "source": [
    "df['tokenized_reviews'] = df['cleanedtext'].apply(lambda sent: str(sent).split())\n",
    "df.head()"
   ]
  },
  {
   "cell_type": "code",
   "execution_count": 4,
   "id": "30748b47-6ac3-434c-a1af-95de937b7b6c",
   "metadata": {},
   "outputs": [],
   "source": [
    "model_w2v = Word2Vec(list(df.tokenized_reviews), vector_size=300, window=10,\n",
    "                    min_count=1,workers=8)"
   ]
  },
  {
   "cell_type": "code",
   "execution_count": 5,
   "id": "df31ef57-cf74-4530-a0f8-d912846ca9e8",
   "metadata": {},
   "outputs": [
    {
     "name": "stdout",
     "output_type": "stream",
     "text": [
      "Word2Vec<vocab=103764, vector_size=300, alpha=0.025>\n"
     ]
    }
   ],
   "source": [
    "print(model_w2v)"
   ]
  },
  {
   "cell_type": "code",
   "execution_count": 6,
   "id": "10d56459-ab66-4c8e-b990-5445310a1aac",
   "metadata": {},
   "outputs": [
    {
     "data": {
      "text/plain": [
       "(103764, 300)"
      ]
     },
     "execution_count": 6,
     "metadata": {},
     "output_type": "execute_result"
    }
   ],
   "source": [
    "model_w2v.wv.__getitem__(model_w2v.wv.index_to_key).shape"
   ]
  },
  {
   "cell_type": "code",
   "execution_count": 7,
   "id": "4ea6f5f6-c907-4200-92b4-118fb0444178",
   "metadata": {},
   "outputs": [],
   "source": [
    "pickle.dump(model_w2v,open(\"w2v_model.pkl\",\"wb\"))"
   ]
  },
  {
   "cell_type": "code",
   "execution_count": 8,
   "id": "a5c96078-2871-4373-a09b-9ab5464dfde2",
   "metadata": {},
   "outputs": [],
   "source": [
    "# creating vector for each review by averaging word vectors\n",
    "def sent_vector(sent):\n",
    "    sent = [word for word in sent if word in model_w2v.wv.index_to_key]\n",
    "    sent_vec = np.mean(model_w2v.wv.__getitem__(sent), axis=0)\n",
    "    return sent_vec"
   ]
  },
  {
   "cell_type": "code",
   "execution_count": 8,
   "id": "e1a60438-99ba-4a7f-b067-044505b4d932",
   "metadata": {},
   "outputs": [],
   "source": [
    "df['review_vector'] = df['tokenized_reviews'].apply(sent_vector)"
   ]
  },
  {
   "cell_type": "code",
   "execution_count": 9,
   "id": "1ae741f6-f21c-4563-b1d6-23ce88347664",
   "metadata": {},
   "outputs": [
    {
     "data": {
      "text/html": [
       "<div>\n",
       "<style scoped>\n",
       "    .dataframe tbody tr th:only-of-type {\n",
       "        vertical-align: middle;\n",
       "    }\n",
       "\n",
       "    .dataframe tbody tr th {\n",
       "        vertical-align: top;\n",
       "    }\n",
       "\n",
       "    .dataframe thead th {\n",
       "        text-align: right;\n",
       "    }\n",
       "</style>\n",
       "<table border=\"1\" class=\"dataframe\">\n",
       "  <thead>\n",
       "    <tr style=\"text-align: right;\">\n",
       "      <th></th>\n",
       "      <th>Review_type</th>\n",
       "      <th>text</th>\n",
       "      <th>cleanedtext</th>\n",
       "      <th>tokenized_reviews</th>\n",
       "      <th>review_vector</th>\n",
       "    </tr>\n",
       "  </thead>\n",
       "  <tbody>\n",
       "    <tr>\n",
       "      <th>0</th>\n",
       "      <td>1</td>\n",
       "      <td>Good Quality Dog Food  I have bought several ...</td>\n",
       "      <td>good quality dog food buy several vitality can...</td>\n",
       "      <td>[good, quality, dog, food, buy, several, vital...</td>\n",
       "      <td>[-0.015360779, -0.24356443, 0.45380333, 0.4255...</td>\n",
       "    </tr>\n",
       "    <tr>\n",
       "      <th>1</th>\n",
       "      <td>1</td>\n",
       "      <td>Healthy Dog Food  This is a very healthy dog ...</td>\n",
       "      <td>healthy dog food healthy dog food good digesti...</td>\n",
       "      <td>[healthy, dog, food, healthy, dog, food, good,...</td>\n",
       "      <td>[0.18326958, -0.64162564, 0.37955987, 0.576207...</td>\n",
       "    </tr>\n",
       "    <tr>\n",
       "      <th>2</th>\n",
       "      <td>0</td>\n",
       "      <td>Bad  I fed this to my Golden Retriever and he...</td>\n",
       "      <td>bad feed golden retriever hat eat give terribl...</td>\n",
       "      <td>[bad, feed, golden, retriever, hat, eat, give,...</td>\n",
       "      <td>[0.035870653, -0.57822657, 0.2539622, 0.818605...</td>\n",
       "    </tr>\n",
       "    <tr>\n",
       "      <th>3</th>\n",
       "      <td>0</td>\n",
       "      <td>Not hot, not habanero  I have to admit, I was...</td>\n",
       "      <td>hot habanero admit sucker large quantity oz sh...</td>\n",
       "      <td>[hot, habanero, admit, sucker, large, quantity...</td>\n",
       "      <td>[0.5397752, 0.015083934, -0.32287642, -0.15726...</td>\n",
       "    </tr>\n",
       "    <tr>\n",
       "      <th>4</th>\n",
       "      <td>1</td>\n",
       "      <td>The best weve tried so far  We have a 7 week ...</td>\n",
       "      <td>best weve try far week old gas constipation pr...</td>\n",
       "      <td>[best, weve, try, far, week, old, gas, constip...</td>\n",
       "      <td>[0.14418781, -0.28286204, -0.062710874, 0.3410...</td>\n",
       "    </tr>\n",
       "  </tbody>\n",
       "</table>\n",
       "</div>"
      ],
      "text/plain": [
       "   Review_type                                               text  \\\n",
       "0            1   Good Quality Dog Food  I have bought several ...   \n",
       "1            1   Healthy Dog Food  This is a very healthy dog ...   \n",
       "2            0   Bad  I fed this to my Golden Retriever and he...   \n",
       "3            0   Not hot, not habanero  I have to admit, I was...   \n",
       "4            1   The best weve tried so far  We have a 7 week ...   \n",
       "\n",
       "                                         cleanedtext  \\\n",
       "0  good quality dog food buy several vitality can...   \n",
       "1  healthy dog food healthy dog food good digesti...   \n",
       "2  bad feed golden retriever hat eat give terribl...   \n",
       "3  hot habanero admit sucker large quantity oz sh...   \n",
       "4  best weve try far week old gas constipation pr...   \n",
       "\n",
       "                                   tokenized_reviews  \\\n",
       "0  [good, quality, dog, food, buy, several, vital...   \n",
       "1  [healthy, dog, food, healthy, dog, food, good,...   \n",
       "2  [bad, feed, golden, retriever, hat, eat, give,...   \n",
       "3  [hot, habanero, admit, sucker, large, quantity...   \n",
       "4  [best, weve, try, far, week, old, gas, constip...   \n",
       "\n",
       "                                       review_vector  \n",
       "0  [-0.015360779, -0.24356443, 0.45380333, 0.4255...  \n",
       "1  [0.18326958, -0.64162564, 0.37955987, 0.576207...  \n",
       "2  [0.035870653, -0.57822657, 0.2539622, 0.818605...  \n",
       "3  [0.5397752, 0.015083934, -0.32287642, -0.15726...  \n",
       "4  [0.14418781, -0.28286204, -0.062710874, 0.3410...  "
      ]
     },
     "execution_count": 9,
     "metadata": {},
     "output_type": "execute_result"
    }
   ],
   "source": [
    "df.head()"
   ]
  },
  {
   "cell_type": "markdown",
   "id": "b6e7c5a4-d584-4a1f-a41e-e22bb4744f72",
   "metadata": {},
   "source": [
    "## Train Test split"
   ]
  },
  {
   "cell_type": "code",
   "execution_count": 10,
   "id": "cdd09088-b72b-4f0d-bee8-8ae3cef6202f",
   "metadata": {},
   "outputs": [],
   "source": [
    "X = df['review_vector']\n",
    "y = df['Review_type']"
   ]
  },
  {
   "cell_type": "code",
   "execution_count": 11,
   "id": "f737e926-bcbd-4d20-85b1-7812816d0874",
   "metadata": {},
   "outputs": [
    {
     "data": {
      "text/plain": [
       "((314856,), (78714,), (314856,), (78714,))"
      ]
     },
     "execution_count": 11,
     "metadata": {},
     "output_type": "execute_result"
    }
   ],
   "source": [
    "# train test split\n",
    "xtrain,xtest, ytrain,ytest = train_test_split(X,y, test_size=0.2,\n",
    "                                             random_state=42, stratify=y)\n",
    "xtrain.shape, xtest.shape, ytrain.shape, ytest.shape"
   ]
  },
  {
   "cell_type": "code",
   "execution_count": 12,
   "id": "3767f8bb-9fe0-49ea-a138-1f33365889ec",
   "metadata": {},
   "outputs": [],
   "source": [
    "xtrain_v= list(xtrain)\n",
    "xtest_v= list(xtest)"
   ]
  },
  {
   "cell_type": "markdown",
   "id": "dae11814-39c5-45f3-b829-70ce37d4ed17",
   "metadata": {},
   "source": [
    "## Training Model"
   ]
  },
  {
   "cell_type": "code",
   "execution_count": 13,
   "id": "c19e6826-ceb6-420f-a813-2e09a4899da0",
   "metadata": {},
   "outputs": [],
   "source": [
    "def model_eval(model,xtrain=xtrain_v,xtest=xtest_v,ytrain=ytrain, ytest=ytest):\n",
    "  '''\n",
    "  This function will take model and datasets as argument \n",
    "  and return accuracy score, classification report \n",
    "  '''\n",
    "  # Fit modelon train set\n",
    "  model.fit(xtrain,ytrain)\n",
    "  # prediction on train set\n",
    "  train_pred = model.predict(xtrain)\n",
    "\n",
    "  # prediction on test set\n",
    "  test_pred = model.predict(xtest)\n",
    "\n",
    "  # accuracy score on test set\n",
    "  acc_score = metrics.accuracy_score(y_true=ytest, y_pred=test_pred)\n",
    "\n",
    "  # classification report on both train and test set\n",
    "  \n",
    "  print(\"Classification report on train set\")\n",
    "  print('\\n')\n",
    "  print(metrics.classification_report(y_true=ytrain, y_pred = train_pred ))\n",
    "  print(\"_*_\"*20)\n",
    "  print(\"\\n\")\n",
    "  print(\"Classification report on test set\")\n",
    "  print(\"\\n\")\n",
    "  print(metrics.classification_report(y_true=ytest, y_pred = test_pred))\n",
    "  \n",
    "\n",
    "    # Confusion matrix\n",
    "  metrics.ConfusionMatrixDisplay.from_predictions(y_true=ytest,\n",
    "                                                  y_pred=test_pred)\n",
    "    \n",
    "    # Display ROC curve\n",
    "  metrics.RocCurveDisplay.from_predictions(y_true=ytest,\n",
    "                                            y_pred=test_pred)\n",
    "\n",
    "    # return accuracy score\n",
    "  return acc_score"
   ]
  },
  {
   "cell_type": "markdown",
   "id": "3881dad3-e8d7-439f-acb6-920486a2d8ad",
   "metadata": {
    "tags": []
   },
   "source": [
    "### Random forest classifier"
   ]
  },
  {
   "cell_type": "code",
   "execution_count": 14,
   "id": "95704a50-d52e-4480-93b2-d883ad544a71",
   "metadata": {},
   "outputs": [],
   "source": [
    "rf_classifier = RandomForestClassifier(n_estimators=150,n_jobs=-1)"
   ]
  },
  {
   "cell_type": "code",
   "execution_count": 15,
   "id": "39d69dc1-0d20-4798-91ab-dd9eef4ca866",
   "metadata": {},
   "outputs": [
    {
     "name": "stdout",
     "output_type": "stream",
     "text": [
      "Classification report on train set\n",
      "\n",
      "\n",
      "              precision    recall  f1-score   support\n",
      "\n",
      "           0       1.00      1.00      1.00     69421\n",
      "           1       1.00      1.00      1.00    245435\n",
      "\n",
      "    accuracy                           1.00    314856\n",
      "   macro avg       1.00      1.00      1.00    314856\n",
      "weighted avg       1.00      1.00      1.00    314856\n",
      "\n",
      "_*__*__*__*__*__*__*__*__*__*__*__*__*__*__*__*__*__*__*__*_\n",
      "\n",
      "\n",
      "Classification report on test set\n",
      "\n",
      "\n",
      "              precision    recall  f1-score   support\n",
      "\n",
      "           0       0.82      0.49      0.62     17355\n",
      "           1       0.87      0.97      0.92     61359\n",
      "\n",
      "    accuracy                           0.87     78714\n",
      "   macro avg       0.85      0.73      0.77     78714\n",
      "weighted avg       0.86      0.87      0.85     78714\n",
      "\n"
     ]
    },
    {
     "data": {
      "image/png": "[encoded data removed]",
      "text/plain": [
       "<Figure size 432x288 with 2 Axes>"
      ]
     },
     "metadata": {
      "needs_background": "light"
     },
     "output_type": "display_data"
    },
    {
     "data": {
      "image/png": "[encoded data removed]",
      "text/plain": [
       "<Figure size 432x288 with 1 Axes>"
      ]
     },
     "metadata": {
      "needs_background": "light"
     },
     "output_type": "display_data"
    }
   ],
   "source": [
    "base_rf_acc = model_eval(rf_classifier)"
   ]
  },
  {
   "cell_type": "markdown",
   "id": "7304bf81-e783-4ff8-9450-ead25ac46e02",
   "metadata": {
    "tags": []
   },
   "source": [
    "### Dealing with imbalanced data"
   ]
  },
  {
   "cell_type": "code",
   "execution_count": 16,
   "id": "1f6ec70d-e02e-44b6-a0a2-17ecb6dc4635",
   "metadata": {},
   "outputs": [
    {
     "data": {
      "text/plain": [
       "1    0.779516\n",
       "0    0.220484\n",
       "Name: Review_type, dtype: float64"
      ]
     },
     "execution_count": 16,
     "metadata": {},
     "output_type": "execute_result"
    }
   ],
   "source": [
    "y.value_counts(normalize=True)"
   ]
  },
  {
   "cell_type": "code",
   "execution_count": 17,
   "id": "0b3b1b7e-059f-4bb4-8880-0aeadd6802e0",
   "metadata": {},
   "outputs": [
    {
     "data": {
      "text/plain": [
       "1    306794\n",
       "0     86776\n",
       "Name: Review_type, dtype: int64"
      ]
     },
     "execution_count": 17,
     "metadata": {},
     "output_type": "execute_result"
    }
   ],
   "source": [
    "y.value_counts()"
   ]
  },
  {
   "cell_type": "code",
   "execution_count": 18,
   "id": "006ce411-4018-4cb2-92e4-a0a3d31ed9bb",
   "metadata": {},
   "outputs": [
    {
     "name": "stdout",
     "output_type": "stream",
     "text": [
      "3\n"
     ]
    }
   ],
   "source": [
    "ratio = 306794/86776\n",
    "print(int(ratio))"
   ]
  },
  {
   "cell_type": "code",
   "execution_count": 19,
   "id": "b03e6f3b-b4ef-4c77-8f67-5ad9b33b74e7",
   "metadata": {},
   "outputs": [],
   "source": [
    "# instantiate inverse weights\n",
    "weights = {1:1.0,0:3.0}"
   ]
  },
  {
   "cell_type": "markdown",
   "id": "6f9585e1-67f9-4d89-8e68-72c18f7651ed",
   "metadata": {
    "jp-MarkdownHeadingCollapsed": true,
    "tags": []
   },
   "source": [
    "#### Random forest classifier with inverse weights"
   ]
  },
  {
   "cell_type": "code",
   "execution_count": 23,
   "id": "f84f20c9-b2b0-4070-8d74-8e8d34ef60f6",
   "metadata": {},
   "outputs": [],
   "source": [
    "rf_weight_classifier = RandomForestClassifier(n_estimators=100,class_weight=weights)"
   ]
  },
  {
   "cell_type": "code",
   "execution_count": 24,
   "id": "ace26d09-c31e-499c-8dbb-8e8b359d2233",
   "metadata": {},
   "outputs": [
    {
     "name": "stdout",
     "output_type": "stream",
     "text": [
      "Classification report on train set\n",
      "\n",
      "\n",
      "              precision    recall  f1-score   support\n",
      "\n",
      "           0       1.00      1.00      1.00     69421\n",
      "           1       1.00      1.00      1.00    245435\n",
      "\n",
      "    accuracy                           1.00    314856\n",
      "   macro avg       1.00      1.00      1.00    314856\n",
      "weighted avg       1.00      1.00      1.00    314856\n",
      "\n",
      "_*__*__*__*__*__*__*__*__*__*__*__*__*__*__*__*__*__*__*__*_\n",
      "\n",
      "\n",
      "Classification report on test set\n",
      "\n",
      "\n",
      "              precision    recall  f1-score   support\n",
      "\n",
      "           0       0.82      0.42      0.56     17355\n",
      "           1       0.86      0.97      0.91     61359\n",
      "\n",
      "    accuracy                           0.85     78714\n",
      "   macro avg       0.84      0.70      0.73     78714\n",
      "weighted avg       0.85      0.85      0.83     78714\n",
      "\n"
     ]
    },
    {
     "data": {
      "image/png": "[encoded data removed]",
      "text/plain": [
       "<Figure size 432x288 with 2 Axes>"
      ]
     },
     "metadata": {
      "needs_background": "light"
     },
     "output_type": "display_data"
    },
    {
     "data": {
      "image/png": "[encoded data removed]",
      "text/plain": [
       "<Figure size 432x288 with 1 Axes>"
      ]
     },
     "metadata": {
      "needs_background": "light"
     },
     "output_type": "display_data"
    }
   ],
   "source": [
    "rf_weight_acc = model_eval(rf_weight_classifier)"
   ]
  },
  {
   "cell_type": "markdown",
   "id": "ee720615-2439-4781-881b-c5011f0be3ea",
   "metadata": {
    "jp-MarkdownHeadingCollapsed": true,
    "tags": []
   },
   "source": [
    "### XGBoost classifier"
   ]
  },
  {
   "cell_type": "markdown",
   "id": "0ec239e0-a6b5-4850-aeaf-32bf1178c69a",
   "metadata": {},
   "source": [
    "As we have seen, Inverse weights are not working well with our data\n",
    "We will use different algorithm with original weights "
   ]
  },
  {
   "cell_type": "code",
   "execution_count": 22,
   "id": "a3b5bff2-db0c-420b-95a8-8e612067397b",
   "metadata": {},
   "outputs": [
    {
     "name": "stderr",
     "output_type": "stream",
     "text": [
      "C:\\Users\\arkur\\anaconda3\\lib\\site-packages\\xgboost\\sklearn.py:1224: UserWarning: The use of label encoder in XGBClassifier is deprecated and will be removed in a future release. To remove this warning, do the following: 1) Pass option use_label_encoder=False when constructing XGBClassifier object; and 2) Encode your labels (y) as integers starting with 0, i.e. 0, 1, 2, ..., [num_class - 1].\n",
      "  warnings.warn(label_encoder_deprecation_msg, UserWarning)\n"
     ]
    },
    {
     "name": "stdout",
     "output_type": "stream",
     "text": [
      "[18:02:50] WARNING: C:/Users/Administrator/workspace/xgboost-win64_release_1.5.1/src/learner.cc:1115: Starting in XGBoost 1.3.0, the default evaluation metric used with the objective 'binary:logistic' was changed from 'error' to 'logloss'. Explicitly set eval_metric if you'd like to restore the old behavior.\n",
      "Classification report on train set\n",
      "\n",
      "\n",
      "              precision    recall  f1-score   support\n",
      "\n",
      "           0       0.86      0.74      0.80     69421\n",
      "           1       0.93      0.97      0.95    245435\n",
      "\n",
      "    accuracy                           0.92    314856\n",
      "   macro avg       0.90      0.86      0.87    314856\n",
      "weighted avg       0.92      0.92      0.92    314856\n",
      "\n",
      "_*__*__*__*__*__*__*__*__*__*__*__*__*__*__*__*__*__*__*__*_\n",
      "\n",
      "\n",
      "Classification report on test set\n",
      "\n",
      "\n",
      "              precision    recall  f1-score   support\n",
      "\n",
      "           0       0.78      0.66      0.71     17355\n",
      "           1       0.91      0.95      0.93     61359\n",
      "\n",
      "    accuracy                           0.88     78714\n",
      "   macro avg       0.84      0.80      0.82     78714\n",
      "weighted avg       0.88      0.88      0.88     78714\n",
      "\n"
     ]
    },
    {
     "data": {
      "image/png": "[encoded data removed]",
      "text/plain": [
       "<Figure size 432x288 with 2 Axes>"
      ]
     },
     "metadata": {
      "needs_background": "light"
     },
     "output_type": "display_data"
    },
    {
     "data": {
      "image/png": "[encoded data removed]",
      "text/plain": [
       "<Figure size 432x288 with 1 Axes>"
      ]
     },
     "metadata": {
      "needs_background": "light"
     },
     "output_type": "display_data"
    }
   ],
   "source": [
    "xgb_classifier = XGBClassifier(use_label_encoder=False)\n",
    "\n",
    "xgb_classifier_acc = model_eval(xgb_classifier)"
   ]
  },
  {
   "cell_type": "markdown",
   "id": "12e3a41b-4893-4103-b1f1-3933bdd8f884",
   "metadata": {
    "tags": []
   },
   "source": [
    "### XGboost classifier hyperparameter tuning"
   ]
  },
  {
   "cell_type": "code",
   "execution_count": 25,
   "id": "23d2e9d0-4f07-4b0e-af12-1f6101231da3",
   "metadata": {},
   "outputs": [],
   "source": [
    "param = [{'n_estimators':[100,200,300],\n",
    "          'learning_rate':[0.1,0.2]}]"
   ]
  },
  {
   "cell_type": "code",
   "execution_count": 26,
   "id": "22f3fd49-4f06-4c5f-b482-098aca5e5684",
   "metadata": {},
   "outputs": [],
   "source": [
    "g_search =GridSearchCV(XGBClassifier(use_label_encoder=False),\n",
    "                      param, cv=5)"
   ]
  },
  {
   "cell_type": "code",
   "execution_count": 27,
   "id": "f315c16b-6380-4f00-890d-bd45021f45f4",
   "metadata": {
    "collapsed": true,
    "jupyter": {
     "outputs_hidden": true
    },
    "tags": []
   },
   "outputs": [
    {
     "name": "stdout",
     "output_type": "stream",
     "text": [
      "[18:41:54] WARNING: C:/Users/Administrator/workspace/xgboost-win64_release_1.5.1/src/learner.cc:1115: Starting in XGBoost 1.3.0, the default evaluation metric used with the objective 'binary:logistic' was changed from 'error' to 'logloss'. Explicitly set eval_metric if you'd like to restore the old behavior.\n",
      "[18:45:26] WARNING: C:/Users/Administrator/workspace/xgboost-win64_release_1.5.1/src/learner.cc:1115: Starting in XGBoost 1.3.0, the default evaluation metric used with the objective 'binary:logistic' was changed from 'error' to 'logloss'. Explicitly set eval_metric if you'd like to restore the old behavior.\n",
      "[18:49:06] WARNING: C:/Users/Administrator/workspace/xgboost-win64_release_1.5.1/src/learner.cc:1115: Starting in XGBoost 1.3.0, the default evaluation metric used with the objective 'binary:logistic' was changed from 'error' to 'logloss'. Explicitly set eval_metric if you'd like to restore the old behavior.\n",
      "[18:52:46] WARNING: C:/Users/Administrator/workspace/xgboost-win64_release_1.5.1/src/learner.cc:1115: Starting in XGBoost 1.3.0, the default evaluation metric used with the objective 'binary:logistic' was changed from 'error' to 'logloss'. Explicitly set eval_metric if you'd like to restore the old behavior.\n",
      "[18:56:28] WARNING: C:/Users/Administrator/workspace/xgboost-win64_release_1.5.1/src/learner.cc:1115: Starting in XGBoost 1.3.0, the default evaluation metric used with the objective 'binary:logistic' was changed from 'error' to 'logloss'. Explicitly set eval_metric if you'd like to restore the old behavior.\n",
      "[19:00:12] WARNING: C:/Users/Administrator/workspace/xgboost-win64_release_1.5.1/src/learner.cc:1115: Starting in XGBoost 1.3.0, the default evaluation metric used with the objective 'binary:logistic' was changed from 'error' to 'logloss'. Explicitly set eval_metric if you'd like to restore the old behavior.\n",
      "[19:07:37] WARNING: C:/Users/Administrator/workspace/xgboost-win64_release_1.5.1/src/learner.cc:1115: Starting in XGBoost 1.3.0, the default evaluation metric used with the objective 'binary:logistic' was changed from 'error' to 'logloss'. Explicitly set eval_metric if you'd like to restore the old behavior.\n",
      "[19:15:20] WARNING: C:/Users/Administrator/workspace/xgboost-win64_release_1.5.1/src/learner.cc:1115: Starting in XGBoost 1.3.0, the default evaluation metric used with the objective 'binary:logistic' was changed from 'error' to 'logloss'. Explicitly set eval_metric if you'd like to restore the old behavior.\n",
      "[19:28:51] WARNING: C:/Users/Administrator/workspace/xgboost-win64_release_1.5.1/src/learner.cc:1115: Starting in XGBoost 1.3.0, the default evaluation metric used with the objective 'binary:logistic' was changed from 'error' to 'logloss'. Explicitly set eval_metric if you'd like to restore the old behavior.\n",
      "[19:42:38] WARNING: C:/Users/Administrator/workspace/xgboost-win64_release_1.5.1/src/learner.cc:1115: Starting in XGBoost 1.3.0, the default evaluation metric used with the objective 'binary:logistic' was changed from 'error' to 'logloss'. Explicitly set eval_metric if you'd like to restore the old behavior.\n",
      "[19:55:57] WARNING: C:/Users/Administrator/workspace/xgboost-win64_release_1.5.1/src/learner.cc:1115: Starting in XGBoost 1.3.0, the default evaluation metric used with the objective 'binary:logistic' was changed from 'error' to 'logloss'. Explicitly set eval_metric if you'd like to restore the old behavior.\n",
      "[20:15:30] WARNING: C:/Users/Administrator/workspace/xgboost-win64_release_1.5.1/src/learner.cc:1115: Starting in XGBoost 1.3.0, the default evaluation metric used with the objective 'binary:logistic' was changed from 'error' to 'logloss'. Explicitly set eval_metric if you'd like to restore the old behavior.\n",
      "[20:35:37] WARNING: C:/Users/Administrator/workspace/xgboost-win64_release_1.5.1/src/learner.cc:1115: Starting in XGBoost 1.3.0, the default evaluation metric used with the objective 'binary:logistic' was changed from 'error' to 'logloss'. Explicitly set eval_metric if you'd like to restore the old behavior.\n",
      "[20:56:08] WARNING: C:/Users/Administrator/workspace/xgboost-win64_release_1.5.1/src/learner.cc:1115: Starting in XGBoost 1.3.0, the default evaluation metric used with the objective 'binary:logistic' was changed from 'error' to 'logloss'. Explicitly set eval_metric if you'd like to restore the old behavior.\n",
      "[21:16:05] WARNING: C:/Users/Administrator/workspace/xgboost-win64_release_1.5.1/src/learner.cc:1115: Starting in XGBoost 1.3.0, the default evaluation metric used with the objective 'binary:logistic' was changed from 'error' to 'logloss'. Explicitly set eval_metric if you'd like to restore the old behavior.\n",
      "[21:35:55] WARNING: C:/Users/Administrator/workspace/xgboost-win64_release_1.5.1/src/learner.cc:1115: Starting in XGBoost 1.3.0, the default evaluation metric used with the objective 'binary:logistic' was changed from 'error' to 'logloss'. Explicitly set eval_metric if you'd like to restore the old behavior.\n",
      "[21:42:44] WARNING: C:/Users/Administrator/workspace/xgboost-win64_release_1.5.1/src/learner.cc:1115: Starting in XGBoost 1.3.0, the default evaluation metric used with the objective 'binary:logistic' was changed from 'error' to 'logloss'. Explicitly set eval_metric if you'd like to restore the old behavior.\n",
      "[21:49:38] WARNING: C:/Users/Administrator/workspace/xgboost-win64_release_1.5.1/src/learner.cc:1115: Starting in XGBoost 1.3.0, the default evaluation metric used with the objective 'binary:logistic' was changed from 'error' to 'logloss'. Explicitly set eval_metric if you'd like to restore the old behavior.\n",
      "[21:56:28] WARNING: C:/Users/Administrator/workspace/xgboost-win64_release_1.5.1/src/learner.cc:1115: Starting in XGBoost 1.3.0, the default evaluation metric used with the objective 'binary:logistic' was changed from 'error' to 'logloss'. Explicitly set eval_metric if you'd like to restore the old behavior.\n",
      "[22:03:03] WARNING: C:/Users/Administrator/workspace/xgboost-win64_release_1.5.1/src/learner.cc:1115: Starting in XGBoost 1.3.0, the default evaluation metric used with the objective 'binary:logistic' was changed from 'error' to 'logloss'. Explicitly set eval_metric if you'd like to restore the old behavior.\n",
      "[22:09:40] WARNING: C:/Users/Administrator/workspace/xgboost-win64_release_1.5.1/src/learner.cc:1115: Starting in XGBoost 1.3.0, the default evaluation metric used with the objective 'binary:logistic' was changed from 'error' to 'logloss'. Explicitly set eval_metric if you'd like to restore the old behavior.\n",
      "[22:17:25] WARNING: C:/Users/Administrator/workspace/xgboost-win64_release_1.5.1/src/learner.cc:1115: Starting in XGBoost 1.3.0, the default evaluation metric used with the objective 'binary:logistic' was changed from 'error' to 'logloss'. Explicitly set eval_metric if you'd like to restore the old behavior.\n",
      "[22:24:50] WARNING: C:/Users/Administrator/workspace/xgboost-win64_release_1.5.1/src/learner.cc:1115: Starting in XGBoost 1.3.0, the default evaluation metric used with the objective 'binary:logistic' was changed from 'error' to 'logloss'. Explicitly set eval_metric if you'd like to restore the old behavior.\n",
      "[22:32:14] WARNING: C:/Users/Administrator/workspace/xgboost-win64_release_1.5.1/src/learner.cc:1115: Starting in XGBoost 1.3.0, the default evaluation metric used with the objective 'binary:logistic' was changed from 'error' to 'logloss'. Explicitly set eval_metric if you'd like to restore the old behavior.\n",
      "[22:39:34] WARNING: C:/Users/Administrator/workspace/xgboost-win64_release_1.5.1/src/learner.cc:1115: Starting in XGBoost 1.3.0, the default evaluation metric used with the objective 'binary:logistic' was changed from 'error' to 'logloss'. Explicitly set eval_metric if you'd like to restore the old behavior.\n",
      "[22:46:53] WARNING: C:/Users/Administrator/workspace/xgboost-win64_release_1.5.1/src/learner.cc:1115: Starting in XGBoost 1.3.0, the default evaluation metric used with the objective 'binary:logistic' was changed from 'error' to 'logloss'. Explicitly set eval_metric if you'd like to restore the old behavior.\n",
      "[22:58:00] WARNING: C:/Users/Administrator/workspace/xgboost-win64_release_1.5.1/src/learner.cc:1115: Starting in XGBoost 1.3.0, the default evaluation metric used with the objective 'binary:logistic' was changed from 'error' to 'logloss'. Explicitly set eval_metric if you'd like to restore the old behavior.\n",
      "[23:08:31] WARNING: C:/Users/Administrator/workspace/xgboost-win64_release_1.5.1/src/learner.cc:1115: Starting in XGBoost 1.3.0, the default evaluation metric used with the objective 'binary:logistic' was changed from 'error' to 'logloss'. Explicitly set eval_metric if you'd like to restore the old behavior.\n",
      "[23:19:05] WARNING: C:/Users/Administrator/workspace/xgboost-win64_release_1.5.1/src/learner.cc:1115: Starting in XGBoost 1.3.0, the default evaluation metric used with the objective 'binary:logistic' was changed from 'error' to 'logloss'. Explicitly set eval_metric if you'd like to restore the old behavior.\n",
      "[23:29:37] WARNING: C:/Users/Administrator/workspace/xgboost-win64_release_1.5.1/src/learner.cc:1115: Starting in XGBoost 1.3.0, the default evaluation metric used with the objective 'binary:logistic' was changed from 'error' to 'logloss'. Explicitly set eval_metric if you'd like to restore the old behavior.\n",
      "[23:40:27] WARNING: C:/Users/Administrator/workspace/xgboost-win64_release_1.5.1/src/learner.cc:1115: Starting in XGBoost 1.3.0, the default evaluation metric used with the objective 'binary:logistic' was changed from 'error' to 'logloss'. Explicitly set eval_metric if you'd like to restore the old behavior.\n"
     ]
    },
    {
     "data": {
      "text/plain": [
       "GridSearchCV(cv=5,\n",
       "             estimator=XGBClassifier(base_score=None, booster=None,\n",
       "                                     colsample_bylevel=None,\n",
       "                                     colsample_bynode=None,\n",
       "                                     colsample_bytree=None,\n",
       "                                     enable_categorical=False, gamma=None,\n",
       "                                     gpu_id=None, importance_type=None,\n",
       "                                     interaction_constraints=None,\n",
       "                                     learning_rate=None, max_delta_step=None,\n",
       "                                     max_depth=None, min_child_weight=None,\n",
       "                                     missing=nan, monotone_constraints=None,\n",
       "                                     n_estimators=100, n_jobs=None,\n",
       "                                     num_parallel_tree=None, predictor=None,\n",
       "                                     random_state=None, reg_alpha=None,\n",
       "                                     reg_lambda=None, scale_pos_weight=None,\n",
       "                                     subsample=None, tree_method=None,\n",
       "                                     use_label_encoder=False,\n",
       "                                     validate_parameters=None, verbosity=None),\n",
       "             param_grid=[{'learning_rate': [0.1, 0.2],\n",
       "                          'n_estimators': [100, 200, 300]}])"
      ]
     },
     "execution_count": 27,
     "metadata": {},
     "output_type": "execute_result"
    }
   ],
   "source": [
    "g_search.fit(xtrain_v,ytrain)"
   ]
  },
  {
   "cell_type": "code",
   "execution_count": 28,
   "id": "faae4b85-b77a-472f-8242-36c254d27b60",
   "metadata": {},
   "outputs": [
    {
     "name": "stdout",
     "output_type": "stream",
     "text": [
      "XGBClassifier(base_score=0.5, booster='gbtree', colsample_bylevel=1,\n",
      "              colsample_bynode=1, colsample_bytree=1, enable_categorical=False,\n",
      "              gamma=0, gpu_id=-1, importance_type=None,\n",
      "              interaction_constraints='', learning_rate=0.2, max_delta_step=0,\n",
      "              max_depth=6, min_child_weight=1, missing=nan,\n",
      "              monotone_constraints='()', n_estimators=300, n_jobs=12,\n",
      "              num_parallel_tree=1, predictor='auto', random_state=0,\n",
      "              reg_alpha=0, reg_lambda=1, scale_pos_weight=1, subsample=1,\n",
      "              tree_method='exact', use_label_encoder=False,\n",
      "              validate_parameters=1, verbosity=None)\n",
      "{'learning_rate': 0.2, 'n_estimators': 300}\n"
     ]
    }
   ],
   "source": [
    "print(g_search.best_estimator_)\n",
    "print(g_search.best_params_)"
   ]
  },
  {
   "cell_type": "code",
   "execution_count": 29,
   "id": "777d42e6-584e-405c-a179-a7e121cbc5df",
   "metadata": {},
   "outputs": [],
   "source": [
    "# xg boost classifier with hyperparametr tuning\n",
    "xgb_hyp_clf = XGBClassifier(use_label_encoders=False,n_jobs=12,\n",
    "                           n_estimators= 300, learning_rate=0.2)"
   ]
  },
  {
   "cell_type": "code",
   "execution_count": 35,
   "id": "c9b197f8-e82e-44be-bb35-39840b7b59e7",
   "metadata": {},
   "outputs": [
    {
     "name": "stderr",
     "output_type": "stream",
     "text": [
      "C:\\Users\\arkur\\anaconda3\\lib\\site-packages\\xgboost\\sklearn.py:1224: UserWarning: The use of label encoder in XGBClassifier is deprecated and will be removed in a future release. To remove this warning, do the following: 1) Pass option use_label_encoder=False when constructing XGBClassifier object; and 2) Encode your labels (y) as integers starting with 0, i.e. 0, 1, 2, ..., [num_class - 1].\n",
      "  warnings.warn(label_encoder_deprecation_msg, UserWarning)\n"
     ]
    },
    {
     "name": "stdout",
     "output_type": "stream",
     "text": [
      "[01:37:28] WARNING: C:/Users/Administrator/workspace/xgboost-win64_release_1.5.1/src/learner.cc:576: \n",
      "Parameters: { \"use_label_encoders\" } might not be used.\n",
      "\n",
      "  This could be a false alarm, with some parameters getting used by language bindings but\n",
      "  then being mistakenly passed down to XGBoost core, or some parameter actually being used\n",
      "  but getting flagged wrongly here. Please open an issue if you find any such cases.\n",
      "\n",
      "\n",
      "[01:37:37] WARNING: C:/Users/Administrator/workspace/xgboost-win64_release_1.5.1/src/learner.cc:1115: Starting in XGBoost 1.3.0, the default evaluation metric used with the objective 'binary:logistic' was changed from 'error' to 'logloss'. Explicitly set eval_metric if you'd like to restore the old behavior.\n",
      "Classification report on train set\n",
      "\n",
      "\n",
      "              precision    recall  f1-score   support\n",
      "\n",
      "           0       0.92      0.82      0.86     69421\n",
      "           1       0.95      0.98      0.96    245435\n",
      "\n",
      "    accuracy                           0.94    314856\n",
      "   macro avg       0.93      0.90      0.91    314856\n",
      "weighted avg       0.94      0.94      0.94    314856\n",
      "\n",
      "_*__*__*__*__*__*__*__*__*__*__*__*__*__*__*__*__*__*__*__*_\n",
      "\n",
      "\n",
      "Classification report on test set\n",
      "\n",
      "\n",
      "              precision    recall  f1-score   support\n",
      "\n",
      "           0       0.79      0.67      0.73     17355\n",
      "           1       0.91      0.95      0.93     61359\n",
      "\n",
      "    accuracy                           0.89     78714\n",
      "   macro avg       0.85      0.81      0.83     78714\n",
      "weighted avg       0.89      0.89      0.89     78714\n",
      "\n"
     ]
    },
    {
     "data": {
      "image/png": "[encoded data removed]",
      "text/plain": [
       "<Figure size 432x288 with 2 Axes>"
      ]
     },
     "metadata": {
      "needs_background": "light"
     },
     "output_type": "display_data"
    },
    {
     "data": {
      "image/png": "[encoded data removed]",
      "text/plain": [
       "<Figure size 432x288 with 1 Axes>"
      ]
     },
     "metadata": {
      "needs_background": "light"
     },
     "output_type": "display_data"
    }
   ],
   "source": [
    "xgb_hyp_acc =model_eval(xgb_hyp_clf)"
   ]
  },
  {
   "cell_type": "code",
   "execution_count": 6,
   "id": "59ffeccb-a320-48b4-8da2-734566ff80dc",
   "metadata": {},
   "outputs": [],
   "source": [
    "# savingf the model\n",
    "import pickle"
   ]
  },
  {
   "cell_type": "code",
   "execution_count": 37,
   "id": "c4f3d42e-8b81-4b58-941a-4c9d0581e4fa",
   "metadata": {},
   "outputs": [],
   "source": [
    "pickle.dump(xgb_hyp_clf,open(\"xgboost_model_hyp.pkl\",'wb'))"
   ]
  },
  {
   "cell_type": "code",
   "execution_count": null,
   "id": "2b1a3702-65ad-401e-884f-198b98940067",
   "metadata": {},
   "outputs": [],
   "source": []
  }
 ],
 "metadata": {
  "kernelspec": {
   "display_name": "Python 3 (ipykernel)",
   "language": "python",
   "name": "python3"
  },
  "language_info": {
   "codemirror_mode": {
    "name": "ipython",
    "version": 3
   },
   "file_extension": ".py",
   "mimetype": "text/x-python",
   "name": "python",
   "nbconvert_exporter": "python",
   "pygments_lexer": "ipython3",
   "version": "3.9.7"
  }
 },
 "nbformat": 4,
 "nbformat_minor": 5
}
