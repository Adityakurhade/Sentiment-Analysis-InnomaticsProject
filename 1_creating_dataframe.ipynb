{
 "cells": [
  {
   "cell_type": "code",
   "execution_count": 6,
   "id": "84690cd4-1a7d-4705-8f1d-bd7a055e8869",
   "metadata": {},
   "outputs": [],
   "source": [
    "import pandas as pd\n",
    "import numpy as np\n",
    "import os\n",
    "import csv"
   ]
  },
  {
   "cell_type": "code",
   "execution_count": 7,
   "id": "180858fa-c6ef-4f22-a17a-d7166bdf448b",
   "metadata": {},
   "outputs": [],
   "source": [
    "with open(\"txt_reviews/review_1.txt\") as file:\n",
    "    text = file.readlines()"
   ]
  },
  {
   "cell_type": "code",
   "execution_count": 8,
   "id": "70767f3b-7863-4e44-8b10-985b0ff2670c",
   "metadata": {},
   "outputs": [
    {
     "data": {
      "text/plain": [
       "['ProductId: B001E4KFG0\\n',\n",
       " 'UserId: A3SGXH7AUHU8GW\\n',\n",
       " 'ProfileName: delmartian\\n',\n",
       " 'HelpfulnessNumerator: 1\\n',\n",
       " 'HelpfulnessDenominator: 1\\n',\n",
       " 'Score: 5\\n',\n",
       " 'Time: 1303862400\\n',\n",
       " 'ReviewSummary: Good Quality Dog Food\\n',\n",
       " 'ReviewText: I have bought several of the Vitality canned dog food products and have found them all to be of good quality. The product looks more like a stew than a processed meat and it smells better. My Labrador is finicky and she appreciates this product better than  most.']"
      ]
     },
     "execution_count": 8,
     "metadata": {},
     "output_type": "execute_result"
    }
   ],
   "source": [
    "text"
   ]
  },
  {
   "cell_type": "code",
   "execution_count": 12,
   "id": "ead03f8c-3694-406f-b869-7a2045ad3bf5",
   "metadata": {},
   "outputs": [],
   "source": [
    "text1 = []\n",
    "\n",
    "for i in text:\n",
    "    text1.append(i.replace(\"\\n\",\"\"))"
   ]
  },
  {
   "cell_type": "code",
   "execution_count": 13,
   "id": "3f4d6a8f-6f3e-432c-a078-55b292ecb293",
   "metadata": {},
   "outputs": [
    {
     "data": {
      "text/plain": [
       "['ProductId: B001E4KFG0',\n",
       " 'UserId: A3SGXH7AUHU8GW',\n",
       " 'ProfileName: delmartian',\n",
       " 'HelpfulnessNumerator: 1',\n",
       " 'HelpfulnessDenominator: 1',\n",
       " 'Score: 5',\n",
       " 'Time: 1303862400',\n",
       " 'ReviewSummary: Good Quality Dog Food',\n",
       " 'ReviewText: I have bought several of the Vitality canned dog food products and have found them all to be of good quality. The product looks more like a stew than a processed meat and it smells better. My Labrador is finicky and she appreciates this product better than  most.']"
      ]
     },
     "execution_count": 13,
     "metadata": {},
     "output_type": "execute_result"
    }
   ],
   "source": [
    "text1"
   ]
  },
  {
   "cell_type": "code",
   "execution_count": 14,
   "id": "99c55c54-4927-48aa-af9b-99faadb2f12b",
   "metadata": {},
   "outputs": [],
   "source": [
    "## creating csv file\n",
    "\n",
    "# path to input directory where txt files are stored\n",
    "dirpath = \"txt_reviews\"\n",
    "# path to the output directory where we will store our final txt or csv file\n",
    "outpath = \"C:\\\\Users\\\\arkur\\\\OneDrive\\\\Desktop\\\\Innomatics\\\\Project_sentiment_analysis\\\\Allreviews.txt\""
   ]
  },
  {
   "cell_type": "code",
   "execution_count": 19,
   "id": "690f86c9-0862-41c6-bc31-cd6489731d91",
   "metadata": {},
   "outputs": [],
   "source": [
    "with open(outpath,\"w\",newline=\"\") as outfile:\n",
    "    csvout = csv.DictWriter(outfile, fieldnames =\n",
    "                            ['ProductId','UserId','ProfileName','HelpfulnessNumerator',\n",
    "                             'HelpfulnessDenominator','Score','Time','ReviewSummary','ReviewText'])\n",
    "    csvout.writeheader()\n",
    "    files = os.listdir(dirpath)\n",
    "    \n",
    "    for file in files:\n",
    "        with open(dirpath + \"\\\\\" + file, errors = \"ignore\") as afile:\n",
    "            csvin = csv.reader(afile, delimiter= \":\")\n",
    "            csvout.writerow({row[0]:row[1] for row in csvin})\n",
    "    outfile.close()"
   ]
  },
  {
   "cell_type": "code",
   "execution_count": 21,
   "id": "b2782f54-6b7f-4fb2-a52c-3fdc9068f05c",
   "metadata": {},
   "outputs": [],
   "source": [
    "df = pd.read_csv(\"Allreviews.txt\", encoding = \"ISO-8859-1\")"
   ]
  },
  {
   "cell_type": "code",
   "execution_count": 22,
   "id": "0155f7c2-2bc8-46fa-8125-833c27db053d",
   "metadata": {},
   "outputs": [
    {
     "data": {
      "text/html": [
       "<div>\n",
       "<style scoped>\n",
       "    .dataframe tbody tr th:only-of-type {\n",
       "        vertical-align: middle;\n",
       "    }\n",
       "\n",
       "    .dataframe tbody tr th {\n",
       "        vertical-align: top;\n",
       "    }\n",
       "\n",
       "    .dataframe thead th {\n",
       "        text-align: right;\n",
       "    }\n",
       "</style>\n",
       "<table border=\"1\" class=\"dataframe\">\n",
       "  <thead>\n",
       "    <tr style=\"text-align: right;\">\n",
       "      <th></th>\n",
       "      <th>ProductId</th>\n",
       "      <th>UserId</th>\n",
       "      <th>ProfileName</th>\n",
       "      <th>HelpfulnessNumerator</th>\n",
       "      <th>HelpfulnessDenominator</th>\n",
       "      <th>Score</th>\n",
       "      <th>Time</th>\n",
       "      <th>ReviewSummary</th>\n",
       "      <th>ReviewText</th>\n",
       "    </tr>\n",
       "  </thead>\n",
       "  <tbody>\n",
       "    <tr>\n",
       "      <th>0</th>\n",
       "      <td>B001E4KFG0</td>\n",
       "      <td>A3SGXH7AUHU8GW</td>\n",
       "      <td>delmartian</td>\n",
       "      <td>1.0</td>\n",
       "      <td>1.0</td>\n",
       "      <td>5.0</td>\n",
       "      <td>1.303862e+09</td>\n",
       "      <td>Good Quality Dog Food</td>\n",
       "      <td>I have bought several of the Vitality canned ...</td>\n",
       "    </tr>\n",
       "    <tr>\n",
       "      <th>1</th>\n",
       "      <td>B00171APVA</td>\n",
       "      <td>A21BT40VZCCYT4</td>\n",
       "      <td>Carol A. Reed</td>\n",
       "      <td>0.0</td>\n",
       "      <td>0.0</td>\n",
       "      <td>5.0</td>\n",
       "      <td>1.351210e+09</td>\n",
       "      <td>Healthy Dog Food</td>\n",
       "      <td>This is a very healthy dog food. Good for the...</td>\n",
       "    </tr>\n",
       "    <tr>\n",
       "      <th>2</th>\n",
       "      <td>B0019CW0HE</td>\n",
       "      <td>A2P6ACFZ8FTNVV</td>\n",
       "      <td>Melissa Benjamin</td>\n",
       "      <td>0.0</td>\n",
       "      <td>1.0</td>\n",
       "      <td>1.0</td>\n",
       "      <td>1.331165e+09</td>\n",
       "      <td>Bad</td>\n",
       "      <td>I fed this to my Golden Retriever and he hate...</td>\n",
       "    </tr>\n",
       "    <tr>\n",
       "      <th>3</th>\n",
       "      <td>B006F2NYI2</td>\n",
       "      <td>A132DJVI37RB4X</td>\n",
       "      <td>Scottdrum</td>\n",
       "      <td>2.0</td>\n",
       "      <td>5.0</td>\n",
       "      <td>2.0</td>\n",
       "      <td>1.332374e+09</td>\n",
       "      <td>Not hot, not habanero</td>\n",
       "      <td>I have to admit, I was a sucker for the large...</td>\n",
       "    </tr>\n",
       "    <tr>\n",
       "      <th>4</th>\n",
       "      <td>B000P41A28</td>\n",
       "      <td>A82WIMR4RSVLI</td>\n",
       "      <td>Emrose mom</td>\n",
       "      <td>0.0</td>\n",
       "      <td>1.0</td>\n",
       "      <td>4.0</td>\n",
       "      <td>1.337472e+09</td>\n",
       "      <td>The best weve tried so far</td>\n",
       "      <td>We have a 7 week old... He had gas and consti...</td>\n",
       "    </tr>\n",
       "  </tbody>\n",
       "</table>\n",
       "</div>"
      ],
      "text/plain": [
       "     ProductId           UserId        ProfileName  HelpfulnessNumerator  \\\n",
       "0   B001E4KFG0   A3SGXH7AUHU8GW         delmartian                   1.0   \n",
       "1   B00171APVA   A21BT40VZCCYT4      Carol A. Reed                   0.0   \n",
       "2   B0019CW0HE   A2P6ACFZ8FTNVV   Melissa Benjamin                   0.0   \n",
       "3   B006F2NYI2   A132DJVI37RB4X          Scottdrum                   2.0   \n",
       "4   B000P41A28    A82WIMR4RSVLI         Emrose mom                   0.0   \n",
       "\n",
       "   HelpfulnessDenominator  Score          Time                ReviewSummary  \\\n",
       "0                     1.0    5.0  1.303862e+09        Good Quality Dog Food   \n",
       "1                     0.0    5.0  1.351210e+09             Healthy Dog Food   \n",
       "2                     1.0    1.0  1.331165e+09                          Bad   \n",
       "3                     5.0    2.0  1.332374e+09        Not hot, not habanero   \n",
       "4                     1.0    4.0  1.337472e+09   The best weve tried so far   \n",
       "\n",
       "                                          ReviewText  \n",
       "0   I have bought several of the Vitality canned ...  \n",
       "1   This is a very healthy dog food. Good for the...  \n",
       "2   I fed this to my Golden Retriever and he hate...  \n",
       "3   I have to admit, I was a sucker for the large...  \n",
       "4   We have a 7 week old... He had gas and consti...  "
      ]
     },
     "execution_count": 22,
     "metadata": {},
     "output_type": "execute_result"
    }
   ],
   "source": [
    "df.head()"
   ]
  },
  {
   "cell_type": "code",
   "execution_count": null,
   "id": "39df81de-9bfb-4e65-b2a2-70e4b8e51b9d",
   "metadata": {},
   "outputs": [],
   "source": []
  }
 ],
 "metadata": {
  "kernelspec": {
   "display_name": "Python 3 (ipykernel)",
   "language": "python",
   "name": "python3"
  },
  "language_info": {
   "codemirror_mode": {
    "name": "ipython",
    "version": 3
   },
   "file_extension": ".py",
   "mimetype": "text/x-python",
   "name": "python",
   "nbconvert_exporter": "python",
   "pygments_lexer": "ipython3",
   "version": "3.9.7"
  }
 },
 "nbformat": 4,
 "nbformat_minor": 5
}
