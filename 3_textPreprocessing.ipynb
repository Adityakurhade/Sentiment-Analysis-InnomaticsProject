{
 "cells": [
  {
   "cell_type": "markdown",
   "id": "fe1b97a8-12a6-4804-86d5-c3ff273bd729",
   "metadata": {},
   "source": [
    "# Amazon Fine Food Reviews"
   ]
  },
  {
   "cell_type": "markdown",
   "id": "3ea16581-a719-4b0a-be78-5d7bd3f27b74",
   "metadata": {},
   "source": [
    "This notebook contains text preprocessing"
   ]
  },
  {
   "cell_type": "markdown",
   "id": "a4af953d-5d2a-471c-a826-e9afb86f52e7",
   "metadata": {},
   "source": [
    "## Importing necessary libraries"
   ]
  },
  {
   "cell_type": "code",
   "execution_count": 1,
   "id": "c4aa05a2-78ed-4358-8906-f9fcb1ebee17",
   "metadata": {},
   "outputs": [],
   "source": [
    "import pandas as pd\n",
    "# NLP libraries\n",
    "import re\n",
    "import nltk\n",
    "from nltk.corpus import stopwords\n",
    "from nltk.stem import WordNetLemmatizer\n",
    "from nltk.tokenize import RegexpTokenizer\n",
    "from nltk.tokenize import word_tokenize\n",
    "from string import punctuation\n",
    "\n",
    "from bs4 import BeautifulSoup"
   ]
  },
  {
   "cell_type": "code",
   "execution_count": 2,
   "id": "2524b990-2d75-42d2-ad7a-9c700316ee09",
   "metadata": {},
   "outputs": [
    {
     "data": {
      "text/html": [
       "<div>\n",
       "<style scoped>\n",
       "    .dataframe tbody tr th:only-of-type {\n",
       "        vertical-align: middle;\n",
       "    }\n",
       "\n",
       "    .dataframe tbody tr th {\n",
       "        vertical-align: top;\n",
       "    }\n",
       "\n",
       "    .dataframe thead th {\n",
       "        text-align: right;\n",
       "    }\n",
       "</style>\n",
       "<table border=\"1\" class=\"dataframe\">\n",
       "  <thead>\n",
       "    <tr style=\"text-align: right;\">\n",
       "      <th></th>\n",
       "      <th>ProductId</th>\n",
       "      <th>UserId</th>\n",
       "      <th>ProfileName</th>\n",
       "      <th>HelpfulnessNumerator</th>\n",
       "      <th>HelpfulnessDenominator</th>\n",
       "      <th>Score</th>\n",
       "      <th>Time</th>\n",
       "      <th>ReviewSummary</th>\n",
       "      <th>ReviewText</th>\n",
       "      <th>Helpfulness</th>\n",
       "      <th>Review_type</th>\n",
       "      <th>%Helpful</th>\n",
       "      <th>word_count</th>\n",
       "    </tr>\n",
       "  </thead>\n",
       "  <tbody>\n",
       "    <tr>\n",
       "      <th>0</th>\n",
       "      <td>B001E4KFG0</td>\n",
       "      <td>A3SGXH7AUHU8GW</td>\n",
       "      <td>delmartian</td>\n",
       "      <td>1.0</td>\n",
       "      <td>1.0</td>\n",
       "      <td>5.0</td>\n",
       "      <td>1.303862e+09</td>\n",
       "      <td>Good Quality Dog Food</td>\n",
       "      <td>I have bought several of the Vitality canned ...</td>\n",
       "      <td>1.0</td>\n",
       "      <td>1</td>\n",
       "      <td>more than 75%</td>\n",
       "      <td>50</td>\n",
       "    </tr>\n",
       "    <tr>\n",
       "      <th>1</th>\n",
       "      <td>B00171APVA</td>\n",
       "      <td>A21BT40VZCCYT4</td>\n",
       "      <td>Carol A. Reed</td>\n",
       "      <td>0.0</td>\n",
       "      <td>0.0</td>\n",
       "      <td>5.0</td>\n",
       "      <td>1.351210e+09</td>\n",
       "      <td>Healthy Dog Food</td>\n",
       "      <td>This is a very healthy dog food. Good for the...</td>\n",
       "      <td>0.0</td>\n",
       "      <td>1</td>\n",
       "      <td>not voted</td>\n",
       "      <td>26</td>\n",
       "    </tr>\n",
       "    <tr>\n",
       "      <th>2</th>\n",
       "      <td>B0019CW0HE</td>\n",
       "      <td>A2P6ACFZ8FTNVV</td>\n",
       "      <td>Melissa Benjamin</td>\n",
       "      <td>0.0</td>\n",
       "      <td>1.0</td>\n",
       "      <td>1.0</td>\n",
       "      <td>1.331165e+09</td>\n",
       "      <td>Bad</td>\n",
       "      <td>I fed this to my Golden Retriever and he hate...</td>\n",
       "      <td>0.0</td>\n",
       "      <td>0</td>\n",
       "      <td>not voted</td>\n",
       "      <td>39</td>\n",
       "    </tr>\n",
       "    <tr>\n",
       "      <th>3</th>\n",
       "      <td>B006F2NYI2</td>\n",
       "      <td>A132DJVI37RB4X</td>\n",
       "      <td>Scottdrum</td>\n",
       "      <td>2.0</td>\n",
       "      <td>5.0</td>\n",
       "      <td>2.0</td>\n",
       "      <td>1.332374e+09</td>\n",
       "      <td>Not hot, not habanero</td>\n",
       "      <td>I have to admit, I was a sucker for the large...</td>\n",
       "      <td>0.4</td>\n",
       "      <td>0</td>\n",
       "      <td>between 25% to 75%</td>\n",
       "      <td>72</td>\n",
       "    </tr>\n",
       "    <tr>\n",
       "      <th>4</th>\n",
       "      <td>B000P41A28</td>\n",
       "      <td>A82WIMR4RSVLI</td>\n",
       "      <td>Emrose mom</td>\n",
       "      <td>0.0</td>\n",
       "      <td>1.0</td>\n",
       "      <td>4.0</td>\n",
       "      <td>1.337472e+09</td>\n",
       "      <td>The best weve tried so far</td>\n",
       "      <td>We have a 7 week old... He had gas and consti...</td>\n",
       "      <td>0.0</td>\n",
       "      <td>1</td>\n",
       "      <td>not voted</td>\n",
       "      <td>199</td>\n",
       "    </tr>\n",
       "  </tbody>\n",
       "</table>\n",
       "</div>"
      ],
      "text/plain": [
       "     ProductId           UserId        ProfileName  HelpfulnessNumerator  \\\n",
       "0   B001E4KFG0   A3SGXH7AUHU8GW         delmartian                   1.0   \n",
       "1   B00171APVA   A21BT40VZCCYT4      Carol A. Reed                   0.0   \n",
       "2   B0019CW0HE   A2P6ACFZ8FTNVV   Melissa Benjamin                   0.0   \n",
       "3   B006F2NYI2   A132DJVI37RB4X          Scottdrum                   2.0   \n",
       "4   B000P41A28    A82WIMR4RSVLI         Emrose mom                   0.0   \n",
       "\n",
       "   HelpfulnessDenominator  Score          Time                ReviewSummary  \\\n",
       "0                     1.0    5.0  1.303862e+09        Good Quality Dog Food   \n",
       "1                     0.0    5.0  1.351210e+09             Healthy Dog Food   \n",
       "2                     1.0    1.0  1.331165e+09                          Bad   \n",
       "3                     5.0    2.0  1.332374e+09        Not hot, not habanero   \n",
       "4                     1.0    4.0  1.337472e+09   The best weve tried so far   \n",
       "\n",
       "                                          ReviewText  Helpfulness  \\\n",
       "0   I have bought several of the Vitality canned ...          1.0   \n",
       "1   This is a very healthy dog food. Good for the...          0.0   \n",
       "2   I fed this to my Golden Retriever and he hate...          0.0   \n",
       "3   I have to admit, I was a sucker for the large...          0.4   \n",
       "4   We have a 7 week old... He had gas and consti...          0.0   \n",
       "\n",
       "   Review_type            %Helpful  word_count  \n",
       "0            1       more than 75%          50  \n",
       "1            1           not voted          26  \n",
       "2            0           not voted          39  \n",
       "3            0  between 25% to 75%          72  \n",
       "4            1           not voted         199  "
      ]
     },
     "execution_count": 2,
     "metadata": {},
     "output_type": "execute_result"
    }
   ],
   "source": [
    "# Load data \n",
    "df = pd.read_csv(\"ReviewsNew.csv\")\n",
    "df.head()"
   ]
  },
  {
   "cell_type": "code",
   "execution_count": 3,
   "id": "c89a1449-d9a1-4271-bb9e-e3d439121bc0",
   "metadata": {},
   "outputs": [
    {
     "data": {
      "text/html": [
       "<div>\n",
       "<style scoped>\n",
       "    .dataframe tbody tr th:only-of-type {\n",
       "        vertical-align: middle;\n",
       "    }\n",
       "\n",
       "    .dataframe tbody tr th {\n",
       "        vertical-align: top;\n",
       "    }\n",
       "\n",
       "    .dataframe thead th {\n",
       "        text-align: right;\n",
       "    }\n",
       "</style>\n",
       "<table border=\"1\" class=\"dataframe\">\n",
       "  <thead>\n",
       "    <tr style=\"text-align: right;\">\n",
       "      <th></th>\n",
       "      <th>ReviewSummary</th>\n",
       "      <th>ReviewText</th>\n",
       "      <th>Review_type</th>\n",
       "    </tr>\n",
       "  </thead>\n",
       "  <tbody>\n",
       "    <tr>\n",
       "      <th>0</th>\n",
       "      <td>Good Quality Dog Food</td>\n",
       "      <td>I have bought several of the Vitality canned ...</td>\n",
       "      <td>1</td>\n",
       "    </tr>\n",
       "    <tr>\n",
       "      <th>1</th>\n",
       "      <td>Healthy Dog Food</td>\n",
       "      <td>This is a very healthy dog food. Good for the...</td>\n",
       "      <td>1</td>\n",
       "    </tr>\n",
       "    <tr>\n",
       "      <th>2</th>\n",
       "      <td>Bad</td>\n",
       "      <td>I fed this to my Golden Retriever and he hate...</td>\n",
       "      <td>0</td>\n",
       "    </tr>\n",
       "    <tr>\n",
       "      <th>3</th>\n",
       "      <td>Not hot, not habanero</td>\n",
       "      <td>I have to admit, I was a sucker for the large...</td>\n",
       "      <td>0</td>\n",
       "    </tr>\n",
       "    <tr>\n",
       "      <th>4</th>\n",
       "      <td>The best weve tried so far</td>\n",
       "      <td>We have a 7 week old... He had gas and consti...</td>\n",
       "      <td>1</td>\n",
       "    </tr>\n",
       "  </tbody>\n",
       "</table>\n",
       "</div>"
      ],
      "text/plain": [
       "                 ReviewSummary  \\\n",
       "0        Good Quality Dog Food   \n",
       "1             Healthy Dog Food   \n",
       "2                          Bad   \n",
       "3        Not hot, not habanero   \n",
       "4   The best weve tried so far   \n",
       "\n",
       "                                          ReviewText  Review_type  \n",
       "0   I have bought several of the Vitality canned ...            1  \n",
       "1   This is a very healthy dog food. Good for the...            1  \n",
       "2   I fed this to my Golden Retriever and he hate...            0  \n",
       "3   I have to admit, I was a sucker for the large...            0  \n",
       "4   We have a 7 week old... He had gas and consti...            1  "
      ]
     },
     "execution_count": 3,
     "metadata": {},
     "output_type": "execute_result"
    }
   ],
   "source": [
    "# creating new dataframe\n",
    "dfnew = df[[\"ReviewSummary\",\"ReviewText\",\"Review_type\"]]\n",
    "dfnew.head()"
   ]
  },
  {
   "cell_type": "code",
   "execution_count": 4,
   "id": "a2f51279-ef87-4cbc-8c27-decd5e84b3fe",
   "metadata": {},
   "outputs": [],
   "source": [
    "pd.options.mode.chained_assignment = None"
   ]
  },
  {
   "cell_type": "code",
   "execution_count": 5,
   "id": "0f84f858-0897-47e7-bfcf-82dd514d3456",
   "metadata": {},
   "outputs": [
    {
     "data": {
      "text/html": [
       "<div>\n",
       "<style scoped>\n",
       "    .dataframe tbody tr th:only-of-type {\n",
       "        vertical-align: middle;\n",
       "    }\n",
       "\n",
       "    .dataframe tbody tr th {\n",
       "        vertical-align: top;\n",
       "    }\n",
       "\n",
       "    .dataframe thead th {\n",
       "        text-align: right;\n",
       "    }\n",
       "</style>\n",
       "<table border=\"1\" class=\"dataframe\">\n",
       "  <thead>\n",
       "    <tr style=\"text-align: right;\">\n",
       "      <th></th>\n",
       "      <th>ReviewSummary</th>\n",
       "      <th>ReviewText</th>\n",
       "      <th>Review_type</th>\n",
       "      <th>text</th>\n",
       "    </tr>\n",
       "  </thead>\n",
       "  <tbody>\n",
       "    <tr>\n",
       "      <th>0</th>\n",
       "      <td>Good Quality Dog Food</td>\n",
       "      <td>I have bought several of the Vitality canned ...</td>\n",
       "      <td>1</td>\n",
       "      <td>Good Quality Dog Food  I have bought several ...</td>\n",
       "    </tr>\n",
       "    <tr>\n",
       "      <th>1</th>\n",
       "      <td>Healthy Dog Food</td>\n",
       "      <td>This is a very healthy dog food. Good for the...</td>\n",
       "      <td>1</td>\n",
       "      <td>Healthy Dog Food  This is a very healthy dog ...</td>\n",
       "    </tr>\n",
       "    <tr>\n",
       "      <th>2</th>\n",
       "      <td>Bad</td>\n",
       "      <td>I fed this to my Golden Retriever and he hate...</td>\n",
       "      <td>0</td>\n",
       "      <td>Bad  I fed this to my Golden Retriever and he...</td>\n",
       "    </tr>\n",
       "    <tr>\n",
       "      <th>3</th>\n",
       "      <td>Not hot, not habanero</td>\n",
       "      <td>I have to admit, I was a sucker for the large...</td>\n",
       "      <td>0</td>\n",
       "      <td>Not hot, not habanero  I have to admit, I was...</td>\n",
       "    </tr>\n",
       "    <tr>\n",
       "      <th>4</th>\n",
       "      <td>The best weve tried so far</td>\n",
       "      <td>We have a 7 week old... He had gas and consti...</td>\n",
       "      <td>1</td>\n",
       "      <td>The best weve tried so far  We have a 7 week ...</td>\n",
       "    </tr>\n",
       "  </tbody>\n",
       "</table>\n",
       "</div>"
      ],
      "text/plain": [
       "                 ReviewSummary  \\\n",
       "0        Good Quality Dog Food   \n",
       "1             Healthy Dog Food   \n",
       "2                          Bad   \n",
       "3        Not hot, not habanero   \n",
       "4   The best weve tried so far   \n",
       "\n",
       "                                          ReviewText  Review_type  \\\n",
       "0   I have bought several of the Vitality canned ...            1   \n",
       "1   This is a very healthy dog food. Good for the...            1   \n",
       "2   I fed this to my Golden Retriever and he hate...            0   \n",
       "3   I have to admit, I was a sucker for the large...            0   \n",
       "4   We have a 7 week old... He had gas and consti...            1   \n",
       "\n",
       "                                                text  \n",
       "0   Good Quality Dog Food  I have bought several ...  \n",
       "1   Healthy Dog Food  This is a very healthy dog ...  \n",
       "2   Bad  I fed this to my Golden Retriever and he...  \n",
       "3   Not hot, not habanero  I have to admit, I was...  \n",
       "4   The best weve tried so far  We have a 7 week ...  "
      ]
     },
     "execution_count": 5,
     "metadata": {},
     "output_type": "execute_result"
    }
   ],
   "source": [
    "dfnew['text'] = dfnew['ReviewSummary'].str.cat(df['ReviewText'],sep=\" \")\n",
    "dfnew.head()"
   ]
  },
  {
   "cell_type": "code",
   "execution_count": 6,
   "id": "741b6485-0d18-4213-af02-9553f3fd18c5",
   "metadata": {},
   "outputs": [
    {
     "data": {
      "text/html": [
       "<div>\n",
       "<style scoped>\n",
       "    .dataframe tbody tr th:only-of-type {\n",
       "        vertical-align: middle;\n",
       "    }\n",
       "\n",
       "    .dataframe tbody tr th {\n",
       "        vertical-align: top;\n",
       "    }\n",
       "\n",
       "    .dataframe thead th {\n",
       "        text-align: right;\n",
       "    }\n",
       "</style>\n",
       "<table border=\"1\" class=\"dataframe\">\n",
       "  <thead>\n",
       "    <tr style=\"text-align: right;\">\n",
       "      <th></th>\n",
       "      <th>Review_type</th>\n",
       "      <th>text</th>\n",
       "    </tr>\n",
       "  </thead>\n",
       "  <tbody>\n",
       "    <tr>\n",
       "      <th>0</th>\n",
       "      <td>1</td>\n",
       "      <td>Good Quality Dog Food  I have bought several ...</td>\n",
       "    </tr>\n",
       "    <tr>\n",
       "      <th>1</th>\n",
       "      <td>1</td>\n",
       "      <td>Healthy Dog Food  This is a very healthy dog ...</td>\n",
       "    </tr>\n",
       "    <tr>\n",
       "      <th>2</th>\n",
       "      <td>0</td>\n",
       "      <td>Bad  I fed this to my Golden Retriever and he...</td>\n",
       "    </tr>\n",
       "    <tr>\n",
       "      <th>3</th>\n",
       "      <td>0</td>\n",
       "      <td>Not hot, not habanero  I have to admit, I was...</td>\n",
       "    </tr>\n",
       "    <tr>\n",
       "      <th>4</th>\n",
       "      <td>1</td>\n",
       "      <td>The best weve tried so far  We have a 7 week ...</td>\n",
       "    </tr>\n",
       "  </tbody>\n",
       "</table>\n",
       "</div>"
      ],
      "text/plain": [
       "   Review_type                                               text\n",
       "0            1   Good Quality Dog Food  I have bought several ...\n",
       "1            1   Healthy Dog Food  This is a very healthy dog ...\n",
       "2            0   Bad  I fed this to my Golden Retriever and he...\n",
       "3            0   Not hot, not habanero  I have to admit, I was...\n",
       "4            1   The best weve tried so far  We have a 7 week ..."
      ]
     },
     "execution_count": 6,
     "metadata": {},
     "output_type": "execute_result"
    }
   ],
   "source": [
    "dfnew.drop(columns=['ReviewSummary','ReviewText'], inplace=True)\n",
    "dfnew.head()"
   ]
  },
  {
   "cell_type": "markdown",
   "id": "efa7e65a-684b-41c7-b83d-6f300a06315e",
   "metadata": {},
   "source": [
    "## Text Preprocessing"
   ]
  },
  {
   "cell_type": "code",
   "execution_count": 7,
   "id": "23cf4c6b-28be-469d-b8d8-1546aa86b24b",
   "metadata": {},
   "outputs": [
    {
     "name": "stderr",
     "output_type": "stream",
     "text": [
      "[nltk_data] Downloading package stopwords to\n",
      "[nltk_data]     C:\\Users\\arkur\\AppData\\Roaming\\nltk_data...\n",
      "[nltk_data]   Package stopwords is already up-to-date!\n",
      "[nltk_data] Downloading package punkt to\n",
      "[nltk_data]     C:\\Users\\arkur\\AppData\\Roaming\\nltk_data...\n",
      "[nltk_data]   Package punkt is already up-to-date!\n",
      "[nltk_data] Downloading package wordnet to\n",
      "[nltk_data]     C:\\Users\\arkur\\AppData\\Roaming\\nltk_data...\n",
      "[nltk_data]   Package wordnet is already up-to-date!\n"
     ]
    },
    {
     "data": {
      "text/plain": [
       "True"
      ]
     },
     "execution_count": 7,
     "metadata": {},
     "output_type": "execute_result"
    }
   ],
   "source": [
    "nltk.download('stopwords')\n",
    "nltk.download('punkt')\n",
    "nltk.download('wordnet')"
   ]
  },
  {
   "cell_type": "code",
   "execution_count": 8,
   "id": "8346260a-6630-47c3-918c-32ca31ce3972",
   "metadata": {},
   "outputs": [],
   "source": [
    "# List of stopwords\n",
    "stop_words = set(stopwords.words(\"english\"))"
   ]
  },
  {
   "cell_type": "code",
   "execution_count": 9,
   "id": "c70960d3-e5c8-4df9-8f60-8b0994abf5c8",
   "metadata": {},
   "outputs": [],
   "source": [
    "# 20 most common words\n",
    "common20= pd.Series(' '.join(dfnew[\"text\"]).split()).value_counts()[:20]"
   ]
  },
  {
   "cell_type": "code",
   "execution_count": 10,
   "id": "53cdfdb3-b797-4ef1-975c-3ad5b0cf6220",
   "metadata": {},
   "outputs": [
    {
     "data": {
      "text/plain": [
       "Index(['the', 'I', 'and', 'a', 'to', 'of', 'is', 'it', 'for', 'in', 'this',\n",
       "       'that', 'my', 'with', 'but', 'have', 'was', 'are', 'not', 'you'],\n",
       "      dtype='object')"
      ]
     },
     "execution_count": 10,
     "metadata": {},
     "output_type": "execute_result"
    }
   ],
   "source": [
    "common20.index"
   ]
  },
  {
   "cell_type": "code",
   "execution_count": 11,
   "id": "238c2d96-8e95-40a0-b02d-9a664a6c053e",
   "metadata": {},
   "outputs": [],
   "source": [
    "add_words = ['the', 'I', 'and', 'a', 'to', 'of', 'is', 'it', 'for', 'in', 'this',\n",
    "             'that', 'my', 'with', 'but', 'have', 'was', 'are', 'you']\n",
    "\n",
    "stop_words=stop_words.union(add_words)"
   ]
  },
  {
   "cell_type": "code",
   "execution_count": 12,
   "id": "3fcd462f-fe85-418f-a283-2a8d409bb684",
   "metadata": {},
   "outputs": [],
   "source": [
    "# creating instance for lemmatizer\n",
    "lemmatizer = WordNetLemmatizer()"
   ]
  },
  {
   "cell_type": "code",
   "execution_count": 13,
   "id": "aaa7917e-4d5e-4ce6-9829-c93ed0a7ad35",
   "metadata": {},
   "outputs": [],
   "source": [
    "# creating function for preprocessing text\n",
    "    \n",
    "corpus =[]\n",
    "def preprocess_text(text):\n",
    "    \"\"\"\n",
    "    This function preprocess the text and return cleaned text\n",
    "    \"\"\"\n",
    "    #removing links\n",
    "    text = re.sub(r\"http\\S+\",\"\", text) \n",
    "    \n",
    "    #removing html tags and keeping only texts\n",
    "    text = BeautifulSoup(text,'lxml').get_text() \n",
    "    \n",
    "    # removing words containing numeric digits\n",
    "    text = re.sub(r\"\\S*\\d\\S*\",\"\", text).strip() \n",
    "    \n",
    "    #removing non-alphabetic characters\n",
    "    text = re.sub(r\"[^a-zA-Z]+\",\" \", text) \n",
    "    \n",
    "    # converting words with characters appearing more than 2 times to the normal meaningful words\n",
    "    text = re.sub(r\"(.)\\1+\",r\"\\1\\1\",text)\n",
    "    \n",
    "    # converting to lower case and creating list of tokenized words\n",
    "    text = word_tokenize(text.lower())\n",
    "    \n",
    "    # removing stop words\n",
    "    text = [word for word in text if not word in stop_words]\n",
    "    \n",
    "    # removing punctuations\n",
    "    text = [word for word in text if word not in punctuation ]\n",
    "    \n",
    "    #lemmatization (obtaining verb form of word)\n",
    "    text = [lemmatizer.lemmatize(word,'v') for word in text] \n",
    "    \n",
    "    # creating list of words appeared in all text data\n",
    "    corpus.append(text) \n",
    "    \n",
    "    text = \" \".join(text)\n",
    "    \n",
    "    text.strip()\n",
    "    \n",
    "    return text"
   ]
  },
  {
   "cell_type": "code",
   "execution_count": 14,
   "id": "3b793b00-de72-4097-9edd-be8973ef7e42",
   "metadata": {},
   "outputs": [],
   "source": [
    "dfnew['cleanedtext']=dfnew['text'].apply(preprocess_text)"
   ]
  },
  {
   "cell_type": "code",
   "execution_count": 15,
   "id": "12261bcc-6dfd-4a94-a6e3-4585ea08e367",
   "metadata": {},
   "outputs": [],
   "source": [
    "dfnew.to_csv(\"CleanedText.csv\", index=False)"
   ]
  },
  {
   "cell_type": "code",
   "execution_count": null,
   "id": "3b07344a-4d09-497b-82cf-2b73f0c4c0fa",
   "metadata": {},
   "outputs": [],
   "source": []
  }
 ],
 "metadata": {
  "kernelspec": {
   "display_name": "Python 3 (ipykernel)",
   "language": "python",
   "name": "python3"
  },
  "language_info": {
   "codemirror_mode": {
    "name": "ipython",
    "version": 3
   },
   "file_extension": ".py",
   "mimetype": "text/x-python",
   "name": "python",
   "nbconvert_exporter": "python",
   "pygments_lexer": "ipython3",
   "version": "3.9.7"
  }
 },
 "nbformat": 4,
 "nbformat_minor": 5
}
