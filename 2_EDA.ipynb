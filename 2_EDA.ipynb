{
 "cells": [
  {
   "cell_type": "markdown",
   "id": "3b67a15e-cae0-499b-b67d-90af8ed81671",
   "metadata": {},
   "source": [
    "# Amazon Fine Food Reviews"
   ]
  },
  {
   "cell_type": "markdown",
   "id": "8940fb99-655f-4b55-b208-27a3b6483b56",
   "metadata": {},
   "source": [
    "**Data Description**\n",
    "\n",
    "This dataset consists of reviews of fine foods from amazon. The data span a period of more than 10 years, including all ~500,000 reviews up to October 2012. Reviews include product and user information, ratings, and a plain text review. It also includes reviews from all other Amazon categories."
   ]
  },
  {
   "cell_type": "markdown",
   "id": "eb9ce6d6-4b25-48e6-8cbb-9111c64b874d",
   "metadata": {},
   "source": [
    "**Data includes:**\n",
    "* Reviews from Oct 1999 - Oct 2012 - 568,454 reviews\n",
    "* 256,059 Users and 74,258 products\n",
    "* 260 users with > 50 reviews"
   ]
  },
  {
   "cell_type": "markdown",
   "id": "f1fd1d6a-c188-4516-931f-42d7f57f4466",
   "metadata": {},
   "source": [
    "## Importing necessary libraries"
   ]
  },
  {
   "cell_type": "code",
   "execution_count": 1,
   "id": "57c585e6-7174-4b0c-916a-4ccbd7997d93",
   "metadata": {},
   "outputs": [],
   "source": [
    "import pandas as pd\n",
    "import numpy as np\n",
    "import matplotlib.pyplot as plt\n",
    "import seaborn as sns"
   ]
  },
  {
   "cell_type": "markdown",
   "id": "a7403461-1ea9-4f21-840c-e8b005ca1804",
   "metadata": {},
   "source": [
    "## Import Dataset"
   ]
  },
  {
   "cell_type": "markdown",
   "id": "79b9a2ce-2f7a-4a86-b1d8-8b53e13f47dc",
   "metadata": {},
   "source": [
    "We had ~500000 .txt files containing reviews from various customers on Amazon. For simplicity and analysis, we converted those files into one single txt file which is comma seperated file. \n",
    "Load the csv file as pandas dataframe"
   ]
  },
  {
   "cell_type": "code",
   "execution_count": 2,
   "id": "e87292e5-29b7-43d6-95a5-357e74df0209",
   "metadata": {},
   "outputs": [
    {
     "data": {
      "text/html": [
       "<div>\n",
       "<style scoped>\n",
       "    .dataframe tbody tr th:only-of-type {\n",
       "        vertical-align: middle;\n",
       "    }\n",
       "\n",
       "    .dataframe tbody tr th {\n",
       "        vertical-align: top;\n",
       "    }\n",
       "\n",
       "    .dataframe thead th {\n",
       "        text-align: right;\n",
       "    }\n",
       "</style>\n",
       "<table border=\"1\" class=\"dataframe\">\n",
       "  <thead>\n",
       "    <tr style=\"text-align: right;\">\n",
       "      <th></th>\n",
       "      <th>ProductId</th>\n",
       "      <th>UserId</th>\n",
       "      <th>ProfileName</th>\n",
       "      <th>HelpfulnessNumerator</th>\n",
       "      <th>HelpfulnessDenominator</th>\n",
       "      <th>Score</th>\n",
       "      <th>Time</th>\n",
       "      <th>ReviewSummary</th>\n",
       "      <th>ReviewText</th>\n",
       "    </tr>\n",
       "  </thead>\n",
       "  <tbody>\n",
       "    <tr>\n",
       "      <th>0</th>\n",
       "      <td>B001E4KFG0</td>\n",
       "      <td>A3SGXH7AUHU8GW</td>\n",
       "      <td>delmartian</td>\n",
       "      <td>1.0</td>\n",
       "      <td>1.0</td>\n",
       "      <td>5.0</td>\n",
       "      <td>1.303862e+09</td>\n",
       "      <td>Good Quality Dog Food</td>\n",
       "      <td>I have bought several of the Vitality canned ...</td>\n",
       "    </tr>\n",
       "    <tr>\n",
       "      <th>1</th>\n",
       "      <td>B00171APVA</td>\n",
       "      <td>A21BT40VZCCYT4</td>\n",
       "      <td>Carol A. Reed</td>\n",
       "      <td>0.0</td>\n",
       "      <td>0.0</td>\n",
       "      <td>5.0</td>\n",
       "      <td>1.351210e+09</td>\n",
       "      <td>Healthy Dog Food</td>\n",
       "      <td>This is a very healthy dog food. Good for the...</td>\n",
       "    </tr>\n",
       "    <tr>\n",
       "      <th>2</th>\n",
       "      <td>B0019CW0HE</td>\n",
       "      <td>A2P6ACFZ8FTNVV</td>\n",
       "      <td>Melissa Benjamin</td>\n",
       "      <td>0.0</td>\n",
       "      <td>1.0</td>\n",
       "      <td>1.0</td>\n",
       "      <td>1.331165e+09</td>\n",
       "      <td>Bad</td>\n",
       "      <td>I fed this to my Golden Retriever and he hate...</td>\n",
       "    </tr>\n",
       "    <tr>\n",
       "      <th>3</th>\n",
       "      <td>B006F2NYI2</td>\n",
       "      <td>A132DJVI37RB4X</td>\n",
       "      <td>Scottdrum</td>\n",
       "      <td>2.0</td>\n",
       "      <td>5.0</td>\n",
       "      <td>2.0</td>\n",
       "      <td>1.332374e+09</td>\n",
       "      <td>Not hot, not habanero</td>\n",
       "      <td>I have to admit, I was a sucker for the large...</td>\n",
       "    </tr>\n",
       "    <tr>\n",
       "      <th>4</th>\n",
       "      <td>B000P41A28</td>\n",
       "      <td>A82WIMR4RSVLI</td>\n",
       "      <td>Emrose mom</td>\n",
       "      <td>0.0</td>\n",
       "      <td>1.0</td>\n",
       "      <td>4.0</td>\n",
       "      <td>1.337472e+09</td>\n",
       "      <td>The best weve tried so far</td>\n",
       "      <td>We have a 7 week old... He had gas and consti...</td>\n",
       "    </tr>\n",
       "    <tr>\n",
       "      <th>5</th>\n",
       "      <td>B000LQORDE</td>\n",
       "      <td>A19W47CXJJP1MI</td>\n",
       "      <td>Amazonian Consumer</td>\n",
       "      <td>2.0</td>\n",
       "      <td>5.0</td>\n",
       "      <td>5.0</td>\n",
       "      <td>1.235088e+09</td>\n",
       "      <td>This spicy noodle cures my cold, upset stomac...</td>\n",
       "      <td>I love this noodle and have it once or twice ...</td>\n",
       "    </tr>\n",
       "    <tr>\n",
       "      <th>6</th>\n",
       "      <td>B000LQORDE</td>\n",
       "      <td>A13LMI7F7UC2VO</td>\n",
       "      <td>Super Villain</td>\n",
       "      <td>6.0</td>\n",
       "      <td>12.0</td>\n",
       "      <td>3.0</td>\n",
       "      <td>1.251245e+09</td>\n",
       "      <td>I'm spicyyyyyyyyyy</td>\n",
       "      <td>That's pretty much what these ramen noodles h...</td>\n",
       "    </tr>\n",
       "    <tr>\n",
       "      <th>7</th>\n",
       "      <td>B000LQORDE</td>\n",
       "      <td>A29WRXXYKLFTG</td>\n",
       "      <td>zhenzhen</td>\n",
       "      <td>0.0</td>\n",
       "      <td>2.0</td>\n",
       "      <td>5.0</td>\n",
       "      <td>1.320538e+09</td>\n",
       "      <td>I like it</td>\n",
       "      <td>The taste is great! especially when you cook ...</td>\n",
       "    </tr>\n",
       "    <tr>\n",
       "      <th>8</th>\n",
       "      <td>B000LQORDE</td>\n",
       "      <td>A2LKCOIVLZWDG5</td>\n",
       "      <td>TopQuark</td>\n",
       "      <td>0.0</td>\n",
       "      <td>2.0</td>\n",
       "      <td>5.0</td>\n",
       "      <td>1.320538e+09</td>\n",
       "      <td>The best instant noodle!</td>\n",
       "      <td>This is the best instant noodle I have tried....</td>\n",
       "    </tr>\n",
       "    <tr>\n",
       "      <th>9</th>\n",
       "      <td>B000LQORDE</td>\n",
       "      <td>A1GPN9X27K5WN</td>\n",
       "      <td>Chase A Byrd \"byrd720\"</td>\n",
       "      <td>0.0</td>\n",
       "      <td>2.0</td>\n",
       "      <td>5.0</td>\n",
       "      <td>1.319933e+09</td>\n",
       "      <td>Awesome!</td>\n",
       "      <td>I don't see how anyone could say anything bad...</td>\n",
       "    </tr>\n",
       "  </tbody>\n",
       "</table>\n",
       "</div>"
      ],
      "text/plain": [
       "     ProductId           UserId              ProfileName  \\\n",
       "0   B001E4KFG0   A3SGXH7AUHU8GW               delmartian   \n",
       "1   B00171APVA   A21BT40VZCCYT4            Carol A. Reed   \n",
       "2   B0019CW0HE   A2P6ACFZ8FTNVV         Melissa Benjamin   \n",
       "3   B006F2NYI2   A132DJVI37RB4X                Scottdrum   \n",
       "4   B000P41A28    A82WIMR4RSVLI               Emrose mom   \n",
       "5   B000LQORDE   A19W47CXJJP1MI       Amazonian Consumer   \n",
       "6   B000LQORDE   A13LMI7F7UC2VO            Super Villain   \n",
       "7   B000LQORDE    A29WRXXYKLFTG                 zhenzhen   \n",
       "8   B000LQORDE   A2LKCOIVLZWDG5                 TopQuark   \n",
       "9   B000LQORDE    A1GPN9X27K5WN   Chase A Byrd \"byrd720\"   \n",
       "\n",
       "   HelpfulnessNumerator  HelpfulnessDenominator  Score          Time  \\\n",
       "0                   1.0                     1.0    5.0  1.303862e+09   \n",
       "1                   0.0                     0.0    5.0  1.351210e+09   \n",
       "2                   0.0                     1.0    1.0  1.331165e+09   \n",
       "3                   2.0                     5.0    2.0  1.332374e+09   \n",
       "4                   0.0                     1.0    4.0  1.337472e+09   \n",
       "5                   2.0                     5.0    5.0  1.235088e+09   \n",
       "6                   6.0                    12.0    3.0  1.251245e+09   \n",
       "7                   0.0                     2.0    5.0  1.320538e+09   \n",
       "8                   0.0                     2.0    5.0  1.320538e+09   \n",
       "9                   0.0                     2.0    5.0  1.319933e+09   \n",
       "\n",
       "                                       ReviewSummary  \\\n",
       "0                              Good Quality Dog Food   \n",
       "1                                   Healthy Dog Food   \n",
       "2                                                Bad   \n",
       "3                              Not hot, not habanero   \n",
       "4                         The best weve tried so far   \n",
       "5   This spicy noodle cures my cold, upset stomac...   \n",
       "6                                 I'm spicyyyyyyyyyy   \n",
       "7                                          I like it   \n",
       "8                           The best instant noodle!   \n",
       "9                                           Awesome!   \n",
       "\n",
       "                                          ReviewText  \n",
       "0   I have bought several of the Vitality canned ...  \n",
       "1   This is a very healthy dog food. Good for the...  \n",
       "2   I fed this to my Golden Retriever and he hate...  \n",
       "3   I have to admit, I was a sucker for the large...  \n",
       "4   We have a 7 week old... He had gas and consti...  \n",
       "5   I love this noodle and have it once or twice ...  \n",
       "6   That's pretty much what these ramen noodles h...  \n",
       "7   The taste is great! especially when you cook ...  \n",
       "8   This is the best instant noodle I have tried....  \n",
       "9   I don't see how anyone could say anything bad...  "
      ]
     },
     "execution_count": 2,
     "metadata": {},
     "output_type": "execute_result"
    }
   ],
   "source": [
    "df = pd.read_csv(\"Allreviews.txt\", encoding=\"iso-8859-1\")\n",
    "df.head(10)"
   ]
  },
  {
   "cell_type": "markdown",
   "id": "8df073e1-d380-46b7-9e26-8e2d381333f8",
   "metadata": {
    "tags": [],
    "toc-hr-collapsed": true
   },
   "source": [
    "## Basic Preprocessing"
   ]
  },
  {
   "cell_type": "code",
   "execution_count": 3,
   "id": "91de4389-2ac3-461f-a1d5-97acd14c180d",
   "metadata": {},
   "outputs": [],
   "source": [
    "# Helpfulness (fraction of users who found the review helpful) = HelpfulnessNumerator / HelpfulnessDenominator\n",
    "# Adding column for Helpfullness\n",
    "\n",
    "df['Helpfulness'] = df['HelpfulnessNumerator'] / df['HelpfulnessDenominator']"
   ]
  },
  {
   "cell_type": "code",
   "execution_count": 4,
   "id": "beda1216-6b95-4a0c-b2bb-3e554847d6ab",
   "metadata": {},
   "outputs": [
    {
     "data": {
      "text/html": [
       "<div>\n",
       "<style scoped>\n",
       "    .dataframe tbody tr th:only-of-type {\n",
       "        vertical-align: middle;\n",
       "    }\n",
       "\n",
       "    .dataframe tbody tr th {\n",
       "        vertical-align: top;\n",
       "    }\n",
       "\n",
       "    .dataframe thead th {\n",
       "        text-align: right;\n",
       "    }\n",
       "</style>\n",
       "<table border=\"1\" class=\"dataframe\">\n",
       "  <thead>\n",
       "    <tr style=\"text-align: right;\">\n",
       "      <th></th>\n",
       "      <th>ProductId</th>\n",
       "      <th>UserId</th>\n",
       "      <th>ProfileName</th>\n",
       "      <th>HelpfulnessNumerator</th>\n",
       "      <th>HelpfulnessDenominator</th>\n",
       "      <th>Score</th>\n",
       "      <th>Time</th>\n",
       "      <th>ReviewSummary</th>\n",
       "      <th>ReviewText</th>\n",
       "      <th>Helpfulness</th>\n",
       "    </tr>\n",
       "  </thead>\n",
       "  <tbody>\n",
       "    <tr>\n",
       "      <th>0</th>\n",
       "      <td>B001E4KFG0</td>\n",
       "      <td>A3SGXH7AUHU8GW</td>\n",
       "      <td>delmartian</td>\n",
       "      <td>1.0</td>\n",
       "      <td>1.0</td>\n",
       "      <td>5.0</td>\n",
       "      <td>1.303862e+09</td>\n",
       "      <td>Good Quality Dog Food</td>\n",
       "      <td>I have bought several of the Vitality canned ...</td>\n",
       "      <td>1.0</td>\n",
       "    </tr>\n",
       "    <tr>\n",
       "      <th>1</th>\n",
       "      <td>B00171APVA</td>\n",
       "      <td>A21BT40VZCCYT4</td>\n",
       "      <td>Carol A. Reed</td>\n",
       "      <td>0.0</td>\n",
       "      <td>0.0</td>\n",
       "      <td>5.0</td>\n",
       "      <td>1.351210e+09</td>\n",
       "      <td>Healthy Dog Food</td>\n",
       "      <td>This is a very healthy dog food. Good for the...</td>\n",
       "      <td>NaN</td>\n",
       "    </tr>\n",
       "    <tr>\n",
       "      <th>2</th>\n",
       "      <td>B0019CW0HE</td>\n",
       "      <td>A2P6ACFZ8FTNVV</td>\n",
       "      <td>Melissa Benjamin</td>\n",
       "      <td>0.0</td>\n",
       "      <td>1.0</td>\n",
       "      <td>1.0</td>\n",
       "      <td>1.331165e+09</td>\n",
       "      <td>Bad</td>\n",
       "      <td>I fed this to my Golden Retriever and he hate...</td>\n",
       "      <td>0.0</td>\n",
       "    </tr>\n",
       "    <tr>\n",
       "      <th>3</th>\n",
       "      <td>B006F2NYI2</td>\n",
       "      <td>A132DJVI37RB4X</td>\n",
       "      <td>Scottdrum</td>\n",
       "      <td>2.0</td>\n",
       "      <td>5.0</td>\n",
       "      <td>2.0</td>\n",
       "      <td>1.332374e+09</td>\n",
       "      <td>Not hot, not habanero</td>\n",
       "      <td>I have to admit, I was a sucker for the large...</td>\n",
       "      <td>0.4</td>\n",
       "    </tr>\n",
       "    <tr>\n",
       "      <th>4</th>\n",
       "      <td>B000P41A28</td>\n",
       "      <td>A82WIMR4RSVLI</td>\n",
       "      <td>Emrose mom</td>\n",
       "      <td>0.0</td>\n",
       "      <td>1.0</td>\n",
       "      <td>4.0</td>\n",
       "      <td>1.337472e+09</td>\n",
       "      <td>The best weve tried so far</td>\n",
       "      <td>We have a 7 week old... He had gas and consti...</td>\n",
       "      <td>0.0</td>\n",
       "    </tr>\n",
       "  </tbody>\n",
       "</table>\n",
       "</div>"
      ],
      "text/plain": [
       "     ProductId           UserId        ProfileName  HelpfulnessNumerator  \\\n",
       "0   B001E4KFG0   A3SGXH7AUHU8GW         delmartian                   1.0   \n",
       "1   B00171APVA   A21BT40VZCCYT4      Carol A. Reed                   0.0   \n",
       "2   B0019CW0HE   A2P6ACFZ8FTNVV   Melissa Benjamin                   0.0   \n",
       "3   B006F2NYI2   A132DJVI37RB4X          Scottdrum                   2.0   \n",
       "4   B000P41A28    A82WIMR4RSVLI         Emrose mom                   0.0   \n",
       "\n",
       "   HelpfulnessDenominator  Score          Time                ReviewSummary  \\\n",
       "0                     1.0    5.0  1.303862e+09        Good Quality Dog Food   \n",
       "1                     0.0    5.0  1.351210e+09             Healthy Dog Food   \n",
       "2                     1.0    1.0  1.331165e+09                          Bad   \n",
       "3                     5.0    2.0  1.332374e+09        Not hot, not habanero   \n",
       "4                     1.0    4.0  1.337472e+09   The best weve tried so far   \n",
       "\n",
       "                                          ReviewText  Helpfulness  \n",
       "0   I have bought several of the Vitality canned ...          1.0  \n",
       "1   This is a very healthy dog food. Good for the...          NaN  \n",
       "2   I fed this to my Golden Retriever and he hate...          0.0  \n",
       "3   I have to admit, I was a sucker for the large...          0.4  \n",
       "4   We have a 7 week old... He had gas and consti...          0.0  "
      ]
     },
     "execution_count": 4,
     "metadata": {},
     "output_type": "execute_result"
    }
   ],
   "source": [
    "df.head()"
   ]
  },
  {
   "cell_type": "code",
   "execution_count": 5,
   "id": "9f318916-eb04-4020-a58c-bcf812c5a8e4",
   "metadata": {},
   "outputs": [
    {
     "data": {
      "text/plain": [
       "ProductId                      0\n",
       "UserId                         0\n",
       "ProfileName                    0\n",
       "HelpfulnessNumerator          15\n",
       "HelpfulnessDenominator        15\n",
       "Score                         15\n",
       "Time                          15\n",
       "ReviewSummary                 15\n",
       "ReviewText                    15\n",
       "Helpfulness               270057\n",
       "dtype: int64"
      ]
     },
     "execution_count": 5,
     "metadata": {},
     "output_type": "execute_result"
    }
   ],
   "source": [
    "df.isnull().sum()"
   ]
  },
  {
   "cell_type": "markdown",
   "id": "a5952988-0860-472f-8a36-4bbc664052b3",
   "metadata": {},
   "source": [
    "* As we can see, New column  contains more than 270000 nan values which occured by dividing zero by zero or division of nan and zero value\n",
    "* First we will replace those nan values with zero"
   ]
  },
  {
   "cell_type": "code",
   "execution_count": 6,
   "id": "f658d88c-7784-4e8c-9556-2c896933b893",
   "metadata": {},
   "outputs": [
    {
     "data": {
      "text/html": [
       "<div>\n",
       "<style scoped>\n",
       "    .dataframe tbody tr th:only-of-type {\n",
       "        vertical-align: middle;\n",
       "    }\n",
       "\n",
       "    .dataframe tbody tr th {\n",
       "        vertical-align: top;\n",
       "    }\n",
       "\n",
       "    .dataframe thead th {\n",
       "        text-align: right;\n",
       "    }\n",
       "</style>\n",
       "<table border=\"1\" class=\"dataframe\">\n",
       "  <thead>\n",
       "    <tr style=\"text-align: right;\">\n",
       "      <th></th>\n",
       "      <th>ProductId</th>\n",
       "      <th>UserId</th>\n",
       "      <th>ProfileName</th>\n",
       "      <th>HelpfulnessNumerator</th>\n",
       "      <th>HelpfulnessDenominator</th>\n",
       "      <th>Score</th>\n",
       "      <th>Time</th>\n",
       "      <th>ReviewSummary</th>\n",
       "      <th>ReviewText</th>\n",
       "      <th>Helpfulness</th>\n",
       "    </tr>\n",
       "  </thead>\n",
       "  <tbody>\n",
       "    <tr>\n",
       "      <th>0</th>\n",
       "      <td>B001E4KFG0</td>\n",
       "      <td>A3SGXH7AUHU8GW</td>\n",
       "      <td>delmartian</td>\n",
       "      <td>1.0</td>\n",
       "      <td>1.0</td>\n",
       "      <td>5.0</td>\n",
       "      <td>1.303862e+09</td>\n",
       "      <td>Good Quality Dog Food</td>\n",
       "      <td>I have bought several of the Vitality canned ...</td>\n",
       "      <td>1.0</td>\n",
       "    </tr>\n",
       "    <tr>\n",
       "      <th>1</th>\n",
       "      <td>B00171APVA</td>\n",
       "      <td>A21BT40VZCCYT4</td>\n",
       "      <td>Carol A. Reed</td>\n",
       "      <td>0.0</td>\n",
       "      <td>0.0</td>\n",
       "      <td>5.0</td>\n",
       "      <td>1.351210e+09</td>\n",
       "      <td>Healthy Dog Food</td>\n",
       "      <td>This is a very healthy dog food. Good for the...</td>\n",
       "      <td>0.0</td>\n",
       "    </tr>\n",
       "    <tr>\n",
       "      <th>2</th>\n",
       "      <td>B0019CW0HE</td>\n",
       "      <td>A2P6ACFZ8FTNVV</td>\n",
       "      <td>Melissa Benjamin</td>\n",
       "      <td>0.0</td>\n",
       "      <td>1.0</td>\n",
       "      <td>1.0</td>\n",
       "      <td>1.331165e+09</td>\n",
       "      <td>Bad</td>\n",
       "      <td>I fed this to my Golden Retriever and he hate...</td>\n",
       "      <td>0.0</td>\n",
       "    </tr>\n",
       "    <tr>\n",
       "      <th>3</th>\n",
       "      <td>B006F2NYI2</td>\n",
       "      <td>A132DJVI37RB4X</td>\n",
       "      <td>Scottdrum</td>\n",
       "      <td>2.0</td>\n",
       "      <td>5.0</td>\n",
       "      <td>2.0</td>\n",
       "      <td>1.332374e+09</td>\n",
       "      <td>Not hot, not habanero</td>\n",
       "      <td>I have to admit, I was a sucker for the large...</td>\n",
       "      <td>0.4</td>\n",
       "    </tr>\n",
       "    <tr>\n",
       "      <th>4</th>\n",
       "      <td>B000P41A28</td>\n",
       "      <td>A82WIMR4RSVLI</td>\n",
       "      <td>Emrose mom</td>\n",
       "      <td>0.0</td>\n",
       "      <td>1.0</td>\n",
       "      <td>4.0</td>\n",
       "      <td>1.337472e+09</td>\n",
       "      <td>The best weve tried so far</td>\n",
       "      <td>We have a 7 week old... He had gas and consti...</td>\n",
       "      <td>0.0</td>\n",
       "    </tr>\n",
       "  </tbody>\n",
       "</table>\n",
       "</div>"
      ],
      "text/plain": [
       "     ProductId           UserId        ProfileName  HelpfulnessNumerator  \\\n",
       "0   B001E4KFG0   A3SGXH7AUHU8GW         delmartian                   1.0   \n",
       "1   B00171APVA   A21BT40VZCCYT4      Carol A. Reed                   0.0   \n",
       "2   B0019CW0HE   A2P6ACFZ8FTNVV   Melissa Benjamin                   0.0   \n",
       "3   B006F2NYI2   A132DJVI37RB4X          Scottdrum                   2.0   \n",
       "4   B000P41A28    A82WIMR4RSVLI         Emrose mom                   0.0   \n",
       "\n",
       "   HelpfulnessDenominator  Score          Time                ReviewSummary  \\\n",
       "0                     1.0    5.0  1.303862e+09        Good Quality Dog Food   \n",
       "1                     0.0    5.0  1.351210e+09             Healthy Dog Food   \n",
       "2                     1.0    1.0  1.331165e+09                          Bad   \n",
       "3                     5.0    2.0  1.332374e+09        Not hot, not habanero   \n",
       "4                     1.0    4.0  1.337472e+09   The best weve tried so far   \n",
       "\n",
       "                                          ReviewText  Helpfulness  \n",
       "0   I have bought several of the Vitality canned ...          1.0  \n",
       "1   This is a very healthy dog food. Good for the...          0.0  \n",
       "2   I fed this to my Golden Retriever and he hate...          0.0  \n",
       "3   I have to admit, I was a sucker for the large...          0.4  \n",
       "4   We have a 7 week old... He had gas and consti...          0.0  "
      ]
     },
     "execution_count": 6,
     "metadata": {},
     "output_type": "execute_result"
    }
   ],
   "source": [
    "df['Helpfulness'].fillna(0, inplace=True)\n",
    "df.head()"
   ]
  },
  {
   "cell_type": "markdown",
   "id": "895c6149-6334-4f58-9430-217bbfda7ff3",
   "metadata": {},
   "source": [
    "We still have some of null values, as there is plenty of data in hand we can delete few rows containing null values"
   ]
  },
  {
   "cell_type": "code",
   "execution_count": 7,
   "id": "19b29732-5ea0-4f71-8980-e06a3479c960",
   "metadata": {},
   "outputs": [
    {
     "name": "stdout",
     "output_type": "stream",
     "text": [
      "Shape of dataframe before deleting null values : (568454, 10)\n",
      "Shape of dataframe after deleting null values : (568438, 10)\n"
     ]
    }
   ],
   "source": [
    "print(\"Shape of dataframe before deleting null values :\", df.shape)\n",
    "df.dropna(inplace=True)\n",
    "print(\"Shape of dataframe after deleting null values :\", df.shape)"
   ]
  },
  {
   "cell_type": "code",
   "execution_count": 8,
   "id": "59ab85c6-7476-4bea-8c7c-855338da96c2",
   "metadata": {},
   "outputs": [
    {
     "name": "stdout",
     "output_type": "stream",
     "text": [
      "no. of reviews with score other than 3 : 525799\n",
      "no. of reviews with score 3 : 42639\n",
      "difference in both numbers mentioned above : 483160\n"
     ]
    }
   ],
   "source": [
    "# Count number of reviews where score is 3\n",
    "print(\"no. of reviews with score other than 3 :\", len(df[df['Score']!=3]))\n",
    "print(\"no. of reviews with score 3 :\", len(df[df['Score']==3]))\n",
    "print(\"difference in both numbers mentioned above :\", len(df[df['Score']!=3]) - len(df[df['Score']==3]) )"
   ]
  },
  {
   "cell_type": "code",
   "execution_count": 9,
   "id": "61c1339c-ee6d-4bdd-ba15-9395c34a192e",
   "metadata": {},
   "outputs": [
    {
     "data": {
      "text/plain": [
       "174868"
      ]
     },
     "execution_count": 9,
     "metadata": {},
     "output_type": "execute_result"
    }
   ],
   "source": [
    "# Check whether our data has duplicates or not\n",
    "df.duplicated(subset ={\"UserId\",\"ProfileName\",\"Time\",\"ReviewText\"}, keep='last').sum()"
   ]
  },
  {
   "cell_type": "code",
   "execution_count": 10,
   "id": "993421b3-fa1f-43a6-ac73-bf135c5adfa3",
   "metadata": {},
   "outputs": [
    {
     "data": {
      "text/plain": [
       "(568438, 10)"
      ]
     },
     "execution_count": 10,
     "metadata": {},
     "output_type": "execute_result"
    }
   ],
   "source": [
    "df.shape"
   ]
  },
  {
   "cell_type": "code",
   "execution_count": 11,
   "id": "b211320c-6134-4a96-940c-6611b1b57bbf",
   "metadata": {},
   "outputs": [
    {
     "data": {
      "text/plain": [
       "(393570, 10)"
      ]
     },
     "execution_count": 11,
     "metadata": {},
     "output_type": "execute_result"
    }
   ],
   "source": [
    "df.drop_duplicates(subset={\"UserId\",\"ProfileName\",\"Time\",\"ReviewText\"}, keep = 'last', inplace= True)\n",
    "df.shape"
   ]
  },
  {
   "cell_type": "markdown",
   "id": "05115a20-8d00-4bb2-a648-05b03283e01b",
   "metadata": {},
   "source": [
    "## Exploratory Data Analysis"
   ]
  },
  {
   "cell_type": "markdown",
   "id": "9d79fa9e-f525-4bcf-9cf1-2f30dafc5a7c",
   "metadata": {},
   "source": [
    "### Distribution of Ratings"
   ]
  },
  {
   "cell_type": "code",
   "execution_count": 12,
   "id": "3c6d93f6-6a6f-4b4c-bab9-1bf98e209ec2",
   "metadata": {},
   "outputs": [
    {
     "data": {
      "image/png": "[encoded data removed]",
      "text/plain": [
       "<Figure size 720x576 with 1 Axes>"
      ]
     },
     "metadata": {
      "needs_background": "light"
     },
     "output_type": "display_data"
    }
   ],
   "source": [
    "plt.figure(figsize=(10,8))\n",
    "sns.countplot(x =df['Score'])\n",
    "plt.title(\"Frequency of Rating/score appearing\")\n",
    "plt.show()"
   ]
  },
  {
   "cell_type": "markdown",
   "id": "3decf1e4-7bd6-43da-90f2-c0dca277242e",
   "metadata": {},
   "source": [
    "* Maximum number of reviews are having rating score = 5, We will consider 4 and 5 star ratings as positive and rest will be negative"
   ]
  },
  {
   "cell_type": "code",
   "execution_count": 13,
   "id": "0b880603-8e90-4da1-bdbe-b0a11de71180",
   "metadata": {},
   "outputs": [],
   "source": [
    "# Positive = 1, Negative = 0\n",
    "df['Review_type'] = df['Score'].apply(lambda x : 1 if x>3 else 0)"
   ]
  },
  {
   "cell_type": "markdown",
   "id": "089690a9-1318-440a-a6c9-9f4b91087762",
   "metadata": {},
   "source": [
    "### Distribution of Helpfullness"
   ]
  },
  {
   "cell_type": "code",
   "execution_count": 14,
   "id": "94b95cb6-17ae-4764-a552-d2ab5c327170",
   "metadata": {},
   "outputs": [
    {
     "data": {
      "text/plain": [
       "dtype('float64')"
      ]
     },
     "execution_count": 14,
     "metadata": {},
     "output_type": "execute_result"
    }
   ],
   "source": [
    "df['Helpfulness'].dtype"
   ]
  },
  {
   "cell_type": "code",
   "execution_count": 15,
   "id": "d638a6d9-7126-4781-bcde-3c3240855ed9",
   "metadata": {},
   "outputs": [],
   "source": [
    "# converting helpfilness values to percent categories showing how much the review was helfil\n",
    "def help_group(x):\n",
    "    if (0.0< x < 0.25):\n",
    "        return \"less than 25%\"\n",
    "    elif ( 0.25 <= x <= 0.75):\n",
    "        return \"between 25% to 75%\"\n",
    "    elif (x > 0.75):\n",
    "        return \"more than 75%\"\n",
    "    else:\n",
    "        return \"not voted\""
   ]
  },
  {
   "cell_type": "code",
   "execution_count": 16,
   "id": "b19ac4b8-e418-41f0-a446-7b3d7969e867",
   "metadata": {},
   "outputs": [],
   "source": [
    "df['%Helpful'] =df['Helpfulness'].apply(help_group)"
   ]
  },
  {
   "cell_type": "code",
   "execution_count": 17,
   "id": "c04562b9-a3e4-4243-b3f4-6a2e2ac3c2d5",
   "metadata": {},
   "outputs": [
    {
     "data": {
      "image/png": "[encoded data removed]",
      "text/plain": [
       "<Figure size 720x576 with 1 Axes>"
      ]
     },
     "metadata": {
      "needs_background": "light"
     },
     "output_type": "display_data"
    }
   ],
   "source": [
    "plt.figure(figsize=(10,8))\n",
    "sns.countplot(x=df['%Helpful'])\n",
    "plt.title(\"Distribution of helpfullness\")\n",
    "plt.show()"
   ]
  },
  {
   "cell_type": "code",
   "execution_count": 18,
   "id": "71337bb0-c519-4401-8b9f-1e140bc7d938",
   "metadata": {},
   "outputs": [
    {
     "data": {
      "text/plain": [
       "not voted             0.526293\n",
       "more than 75%         0.367767\n",
       "between 25% to 75%    0.098341\n",
       "less than 25%         0.007600\n",
       "Name: %Helpful, dtype: float64"
      ]
     },
     "execution_count": 18,
     "metadata": {},
     "output_type": "execute_result"
    }
   ],
   "source": [
    "df['%Helpful'].value_counts(normalize=True)"
   ]
  },
  {
   "cell_type": "markdown",
   "id": "ca3d081e-131e-4757-8242-2c44a4e1cfaa",
   "metadata": {},
   "source": [
    "* 52% reviews are not helpful at all as they were not voted by any individual\n",
    "* 36% reviews are most helpful followed by group of \"25 to 75 percent\" of helpfulness\n",
    "* very few almost 0.01 % reviews are voted helpful in group of 25% group"
   ]
  },
  {
   "cell_type": "markdown",
   "id": "7f69e82f-9e36-4313-86a2-85d6362bb11d",
   "metadata": {},
   "source": [
    "### How does rating affect Helpfulness?"
   ]
  },
  {
   "cell_type": "code",
   "execution_count": 19,
   "id": "792bd2b1-f580-42a6-864c-f747513a386f",
   "metadata": {},
   "outputs": [
    {
     "data": {
      "image/png": "[encoded data removed]",
      "text/plain": [
       "<Figure size 720x576 with 1 Axes>"
      ]
     },
     "metadata": {
      "needs_background": "light"
     },
     "output_type": "display_data"
    }
   ],
   "source": [
    "plt.figure(figsize=(10,8))\n",
    "sns.barplot(x=df['%Helpful'],y=df['Score'])\n",
    "plt.title(\"Ratings vs Helpfulness\")\n",
    "plt.show()"
   ]
  },
  {
   "cell_type": "markdown",
   "id": "1bbd907a-d018-4cf9-b796-753abf22e680",
   "metadata": {},
   "source": [
    "* helpfulness increases as ratings increases which is quite obvious\n",
    "* less helpful reviews are not rated more than 2"
   ]
  },
  {
   "cell_type": "markdown",
   "id": "662d8e87-3156-4492-9146-b537cf706648",
   "metadata": {},
   "source": [
    "### How does word count vary by rating?"
   ]
  },
  {
   "cell_type": "code",
   "execution_count": 20,
   "id": "0d7feb96-4457-4533-b4eb-dede7538dad4",
   "metadata": {},
   "outputs": [],
   "source": [
    "df['word_count'] = df['ReviewText'].apply(lambda x:len(str(x).split(\" \")))"
   ]
  },
  {
   "cell_type": "code",
   "execution_count": 21,
   "id": "2f168fea-dae1-4980-a52e-1c0aa5b34a4f",
   "metadata": {},
   "outputs": [
    {
     "data": {
      "image/png": "[encoded data removed]",
      "text/plain": [
       "<Figure size 1440x1296 with 1 Axes>"
      ]
     },
     "metadata": {
      "needs_background": "light"
     },
     "output_type": "display_data"
    }
   ],
   "source": [
    "plt.figure(figsize=(20,18))\n",
    "sns.boxplot(x=df['Score'], y=df['word_count'])\n",
    "plt.title(\"distribution of word count against rating\")\n",
    "plt.xlabel(\"Rating\")\n",
    "plt.ylabel(\"count of words\")\n",
    "plt.show()"
   ]
  },
  {
   "cell_type": "markdown",
   "id": "d74d463d-bf6d-4771-bc72-6316eabf328c",
   "metadata": {},
   "source": [
    "* Median word count for 5 star rating is less than any other rating's median word count\n",
    "* All the ratings have lot of outliers in word count"
   ]
  },
  {
   "cell_type": "code",
   "execution_count": 22,
   "id": "8a1eab0d-2ecc-4242-9f4b-18d00b8acb92",
   "metadata": {},
   "outputs": [
    {
     "data": {
      "text/html": [
       "<div>\n",
       "<style scoped>\n",
       "    .dataframe tbody tr th:only-of-type {\n",
       "        vertical-align: middle;\n",
       "    }\n",
       "\n",
       "    .dataframe tbody tr th {\n",
       "        vertical-align: top;\n",
       "    }\n",
       "\n",
       "    .dataframe thead th {\n",
       "        text-align: right;\n",
       "    }\n",
       "</style>\n",
       "<table border=\"1\" class=\"dataframe\">\n",
       "  <thead>\n",
       "    <tr style=\"text-align: right;\">\n",
       "      <th></th>\n",
       "      <th>ProductId</th>\n",
       "      <th>UserId</th>\n",
       "      <th>ProfileName</th>\n",
       "      <th>HelpfulnessNumerator</th>\n",
       "      <th>HelpfulnessDenominator</th>\n",
       "      <th>Score</th>\n",
       "      <th>Time</th>\n",
       "      <th>ReviewSummary</th>\n",
       "      <th>ReviewText</th>\n",
       "      <th>Helpfulness</th>\n",
       "      <th>Review_type</th>\n",
       "      <th>%Helpful</th>\n",
       "      <th>word_count</th>\n",
       "    </tr>\n",
       "  </thead>\n",
       "  <tbody>\n",
       "    <tr>\n",
       "      <th>0</th>\n",
       "      <td>B001E4KFG0</td>\n",
       "      <td>A3SGXH7AUHU8GW</td>\n",
       "      <td>delmartian</td>\n",
       "      <td>1.0</td>\n",
       "      <td>1.0</td>\n",
       "      <td>5.0</td>\n",
       "      <td>1.303862e+09</td>\n",
       "      <td>Good Quality Dog Food</td>\n",
       "      <td>I have bought several of the Vitality canned ...</td>\n",
       "      <td>1.0</td>\n",
       "      <td>1</td>\n",
       "      <td>more than 75%</td>\n",
       "      <td>50</td>\n",
       "    </tr>\n",
       "    <tr>\n",
       "      <th>1</th>\n",
       "      <td>B00171APVA</td>\n",
       "      <td>A21BT40VZCCYT4</td>\n",
       "      <td>Carol A. Reed</td>\n",
       "      <td>0.0</td>\n",
       "      <td>0.0</td>\n",
       "      <td>5.0</td>\n",
       "      <td>1.351210e+09</td>\n",
       "      <td>Healthy Dog Food</td>\n",
       "      <td>This is a very healthy dog food. Good for the...</td>\n",
       "      <td>0.0</td>\n",
       "      <td>1</td>\n",
       "      <td>not voted</td>\n",
       "      <td>26</td>\n",
       "    </tr>\n",
       "    <tr>\n",
       "      <th>2</th>\n",
       "      <td>B0019CW0HE</td>\n",
       "      <td>A2P6ACFZ8FTNVV</td>\n",
       "      <td>Melissa Benjamin</td>\n",
       "      <td>0.0</td>\n",
       "      <td>1.0</td>\n",
       "      <td>1.0</td>\n",
       "      <td>1.331165e+09</td>\n",
       "      <td>Bad</td>\n",
       "      <td>I fed this to my Golden Retriever and he hate...</td>\n",
       "      <td>0.0</td>\n",
       "      <td>0</td>\n",
       "      <td>not voted</td>\n",
       "      <td>39</td>\n",
       "    </tr>\n",
       "    <tr>\n",
       "      <th>3</th>\n",
       "      <td>B006F2NYI2</td>\n",
       "      <td>A132DJVI37RB4X</td>\n",
       "      <td>Scottdrum</td>\n",
       "      <td>2.0</td>\n",
       "      <td>5.0</td>\n",
       "      <td>2.0</td>\n",
       "      <td>1.332374e+09</td>\n",
       "      <td>Not hot, not habanero</td>\n",
       "      <td>I have to admit, I was a sucker for the large...</td>\n",
       "      <td>0.4</td>\n",
       "      <td>0</td>\n",
       "      <td>between 25% to 75%</td>\n",
       "      <td>72</td>\n",
       "    </tr>\n",
       "    <tr>\n",
       "      <th>4</th>\n",
       "      <td>B000P41A28</td>\n",
       "      <td>A82WIMR4RSVLI</td>\n",
       "      <td>Emrose mom</td>\n",
       "      <td>0.0</td>\n",
       "      <td>1.0</td>\n",
       "      <td>4.0</td>\n",
       "      <td>1.337472e+09</td>\n",
       "      <td>The best weve tried so far</td>\n",
       "      <td>We have a 7 week old... He had gas and consti...</td>\n",
       "      <td>0.0</td>\n",
       "      <td>1</td>\n",
       "      <td>not voted</td>\n",
       "      <td>199</td>\n",
       "    </tr>\n",
       "  </tbody>\n",
       "</table>\n",
       "</div>"
      ],
      "text/plain": [
       "     ProductId           UserId        ProfileName  HelpfulnessNumerator  \\\n",
       "0   B001E4KFG0   A3SGXH7AUHU8GW         delmartian                   1.0   \n",
       "1   B00171APVA   A21BT40VZCCYT4      Carol A. Reed                   0.0   \n",
       "2   B0019CW0HE   A2P6ACFZ8FTNVV   Melissa Benjamin                   0.0   \n",
       "3   B006F2NYI2   A132DJVI37RB4X          Scottdrum                   2.0   \n",
       "4   B000P41A28    A82WIMR4RSVLI         Emrose mom                   0.0   \n",
       "\n",
       "   HelpfulnessDenominator  Score          Time                ReviewSummary  \\\n",
       "0                     1.0    5.0  1.303862e+09        Good Quality Dog Food   \n",
       "1                     0.0    5.0  1.351210e+09             Healthy Dog Food   \n",
       "2                     1.0    1.0  1.331165e+09                          Bad   \n",
       "3                     5.0    2.0  1.332374e+09        Not hot, not habanero   \n",
       "4                     1.0    4.0  1.337472e+09   The best weve tried so far   \n",
       "\n",
       "                                          ReviewText  Helpfulness  \\\n",
       "0   I have bought several of the Vitality canned ...          1.0   \n",
       "1   This is a very healthy dog food. Good for the...          0.0   \n",
       "2   I fed this to my Golden Retriever and he hate...          0.0   \n",
       "3   I have to admit, I was a sucker for the large...          0.4   \n",
       "4   We have a 7 week old... He had gas and consti...          0.0   \n",
       "\n",
       "   Review_type            %Helpful  word_count  \n",
       "0            1       more than 75%          50  \n",
       "1            1           not voted          26  \n",
       "2            0           not voted          39  \n",
       "3            0  between 25% to 75%          72  \n",
       "4            1           not voted         199  "
      ]
     },
     "execution_count": 22,
     "metadata": {},
     "output_type": "execute_result"
    }
   ],
   "source": [
    "df.head()"
   ]
  },
  {
   "cell_type": "code",
   "execution_count": 24,
   "id": "011fe68c-2e71-4ce6-8327-ff2e131b1839",
   "metadata": {},
   "outputs": [],
   "source": [
    "df.to_csv(\"ReviewsNew.csv\",index=False)"
   ]
  },
  {
   "cell_type": "code",
   "execution_count": null,
   "id": "0b96b791-1418-4457-943e-d64d3840097f",
   "metadata": {},
   "outputs": [],
   "source": []
  }
 ],
 "metadata": {
  "kernelspec": {
   "display_name": "Python 3 (ipykernel)",
   "language": "python",
   "name": "python3"
  },
  "language_info": {
   "codemirror_mode": {
    "name": "ipython",
    "version": 3
   },
   "file_extension": ".py",
   "mimetype": "text/x-python",
   "name": "python",
   "nbconvert_exporter": "python",
   "pygments_lexer": "ipython3",
   "version": "3.9.7"
  }
 },
 "nbformat": 4,
 "nbformat_minor": 5
}
